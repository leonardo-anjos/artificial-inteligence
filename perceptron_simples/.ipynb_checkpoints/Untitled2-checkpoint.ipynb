{
 "cells": [
  {
   "cell_type": "code",
   "execution_count": 35,
   "metadata": {},
   "outputs": [
    {
     "ename": "IndentationError",
     "evalue": "unindent does not match any outer indentation level (<tokenize>, line 38)",
     "output_type": "error",
     "traceback": [
      "\u001b[0;36m  File \u001b[0;32m\"<tokenize>\"\u001b[0;36m, line \u001b[0;32m38\u001b[0m\n\u001b[0;31m    weights = [-0.25, 0.25, 0.25]\u001b[0m\n\u001b[0m    ^\u001b[0m\n\u001b[0;31mIndentationError\u001b[0m\u001b[0;31m:\u001b[0m unindent does not match any outer indentation level\n"
     ]
    }
   ],
   "source": [
    "# Realiza a previsão com os pesos, viés e dados de entrada\n",
    "def predict(row, weights):\n",
    "     activation = weights[0]\n",
    "         \n",
    "        for i in range(len(row)-1):\n",
    "            activation += weights[i + 1] * row[i]\n",
    "            return 1.0 if activation >= 0.0 else 0.0 # função de ativação de Heaviside\n",
    "\n",
    "if __name__ == '__main__':    \n",
    "    print(\"Previsão da função AND\\n\")    \n",
    "    # Classificação do \"AND\"\n",
    "    # dados de entrada [X1, X2, Y]\n",
    "    dataset = [\n",
    "        [1,1,1],\n",
    "        [1,0,0],\n",
    "        [0,1,0], \n",
    "        [0,0,0]\n",
    "    ]\n",
    "# viés, peso1, peso2\n",
    "weights = [-0.5, 0.25, 0.25]\n",
    "\n",
    "for row in dataset:\n",
    "    prediction = predict(row, weights)\n",
    "    print(\"Esperado=%d, Previsto=%d\" % (row[-1], prediction))\n",
    "    \n",
    "    print(\"\\n\")\n",
    "    print(\"Previsão da função OR\\n\")    \n",
    "    # Classificação do \"OR\"\n",
    "    # dados de entrada [X1, X2, Y]\n",
    "    dataset = [\n",
    "        [1,1,1],\n",
    "        [1,0,1],\n",
    "        [0,1,1], \n",
    "        [0,0,0]\n",
    "    ]\n",
    "\n",
    "   # viés, peso1, peso2\n",
    "   weights = [-0.25, 0.25, 0.25]\n",
    "\n",
    "for row in dataset:\n",
    "    prediction = predict(row, weights)\n",
    "    print(\"Esperado=%d, Previsto=%d\" % (row[-1], prediction))"
   ]
  },
  {
   "cell_type": "code",
   "execution_count": null,
   "metadata": {},
   "outputs": [],
   "source": []
  }
 ],
 "metadata": {
  "kernelspec": {
   "display_name": "Python 3",
   "language": "python",
   "name": "python3"
  },
  "language_info": {
   "codemirror_mode": {
    "name": "ipython",
    "version": 3
   },
   "file_extension": ".py",
   "mimetype": "text/x-python",
   "name": "python",
   "nbconvert_exporter": "python",
   "pygments_lexer": "ipython3",
   "version": "3.6.6"
  }
 },
 "nbformat": 4,
 "nbformat_minor": 2
}
