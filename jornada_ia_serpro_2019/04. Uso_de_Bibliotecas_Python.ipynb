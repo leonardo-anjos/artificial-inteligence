{
 "cells": [
  {
   "cell_type": "markdown",
   "metadata": {},
   "source": [
    "# Uso de Bibliotecas Python\n",
    "\n",
    "Existem várias bibliotecas que podem ser utilizadas para realizar análise de sentimento e emoção. Vamos conhecer algumas delas:\n",
    "\n",
    "- **TextBlob** (https://textblob.readthedocs.io)\n",
    "- **NLTK** (https://www.nltk.org/)\n",
    "- **Pattern** (https://www.clips.uantwerpen.be/pages/pattern-en#sentiment)"
   ]
  },
  {
   "cell_type": "markdown",
   "metadata": {},
   "source": [
    "# Análise de Sentimento com TextBlob\n",
    "\n",
    "**APRESENTAÇÃO**:\n",
    "\n",
    "O TextBlob visa fornecer acesso a operações comuns de processamento de texto através de uma interface familiar. Você pode tratar os objetos TextBlob como se fossem cadeias Python que aprenderam como processar o idioma natural.\n",
    "\n",
    "**ESPECIFICAÇÕES**:\n",
    "\n",
    "A propriedade sentiment retorna uma tupla (polaridade, subjetividade). \n",
    "- POLARITY - é um valor contínuo que varia de -1.0 a 1.0, sendo -1.0 referente a 100% negativo e 1.0 a 100% positivo.\n",
    "- SUBJECTIVITY - que também é um valor contínuo que varia de 0.0 a 1.0, sendo 0.0 referente a 100% objetivo e 1.0 a 100% subjetivo. \n",
    "\n",
    "**apenas em inglês**. \n",
    "\n",
    "- Site oficial: https://textblob.readthedocs.io\n",
    "- Documentação: https://textblob.readthedocs.io/en/dev/quickstart.html"
   ]
  },
  {
   "cell_type": "markdown",
   "metadata": {},
   "source": [
    "# Exemplo TextBlob"
   ]
  },
  {
   "cell_type": "code",
   "execution_count": 1,
   "metadata": {},
   "outputs": [
    {
     "name": "stdout",
     "output_type": "stream",
     "text": [
      "Collecting textblob\n",
      "\u001b[?25l  Downloading https://files.pythonhosted.org/packages/60/f0/1d9bfcc8ee6b83472ec571406bd0dd51c0e6330ff1a51b2d29861d389e85/textblob-0.15.3-py2.py3-none-any.whl (636kB)\n",
      "\u001b[K    100% |████████████████████████████████| 645kB 226kB/s ta 0:00:01\n",
      "\u001b[?25hRequirement already satisfied, skipping upgrade: nltk>=3.1 in /home/03662232677/anaconda3/envs/pln_ase/lib/python3.6/site-packages (from textblob) (3.4)\n",
      "Requirement already satisfied, skipping upgrade: six in /home/03662232677/anaconda3/envs/pln_ase/lib/python3.6/site-packages (from nltk>=3.1->textblob) (1.12.0)\n",
      "Requirement already satisfied, skipping upgrade: singledispatch in /home/03662232677/anaconda3/envs/pln_ase/lib/python3.6/site-packages (from nltk>=3.1->textblob) (3.4.0.3)\n",
      "Installing collected packages: textblob\n",
      "  Found existing installation: textblob 0.15.2\n",
      "    Uninstalling textblob-0.15.2:\n",
      "      Successfully uninstalled textblob-0.15.2\n",
      "Successfully installed textblob-0.15.3\n"
     ]
    }
   ],
   "source": [
    "# Exemplo TextBlob - Passo 1\n",
    "#\n",
    "# Instalando a biblioteca do TextBlob\n",
    "#\n",
    "!pip install --upgrade textblob"
   ]
  },
  {
   "cell_type": "code",
   "execution_count": 2,
   "metadata": {},
   "outputs": [
    {
     "name": "stdout",
     "output_type": "stream",
     "text": [
      "Sentiment(polarity=-0.17777777777777776, subjectivity=0.5708333333333333)\n",
      "Polaridade: -0.17777777777777776\n",
      "-------------------------------------------------------------\n"
     ]
    }
   ],
   "source": [
    "# Exemplo TextBlob - Passo 2\n",
    "#\n",
    "# Realizando uma chamada simples com texto em inglês\n",
    "#\n",
    "from textblob import TextBlob\n",
    "# Definindo um texto a ser analisado\n",
    "sentence = TextBlob('Team, I know that times are tough! Product '\\\n",
    "        'sales have been disappointing for the past three '\\\n",
    "        'quarters. We have a competitive product, but we '\\\n",
    "        'need to do a better job of selling it!')\n",
    "# Imprimindo o resultado da análise\n",
    "print(sentence.sentiment)\n",
    "print('Polaridade: {}'.format(sentence.sentiment.polarity))\n",
    "print('-------------------------------------------------------------')    "
   ]
  },
  {
   "cell_type": "code",
   "execution_count": 3,
   "metadata": {},
   "outputs": [
    {
     "name": "stdout",
     "output_type": "stream",
     "text": [
      "Idioma: pt\n",
      "-------------------------------------------------------------\n",
      "Tradução: The result of the first call of the Unified Selection System (Sisu) was released on Monday (28). To access the list of approved, you must enter the website of the program. Registration will take place between January 30 and February 4. During this period, candidates will need to gather the required documents and attend the address informed by the educational institution in which they will study.\n",
      "-------------------------------------------------------------\n",
      "Sentiment(polarity=0.25, subjectivity=0.29166666666666663)\n",
      "Polaridade: 0.25\n",
      "-------------------------------------------------------------\n"
     ]
    }
   ],
   "source": [
    "# Exemplo TextBlob - Passo 3\n",
    "#\n",
    "# Traduzindo para o inglês antes de submeter\n",
    "#\n",
    "from textblob import TextBlob\n",
    "# Definindo um texto a ser analisado\n",
    "sentence = TextBlob('O resultado da primeira chamada do Sistema de Seleção Unificada (Sisu) '\\\n",
    "        'foi divulgado nesta segunda-feira (28). Para acessar a lista de aprovados, '\\\n",
    "        'é preciso entrar no site do programa. As matrículas ocorrerão entre 30 de '\\\n",
    "        'janeiro e 4 de fevereiro. Nesse período, os candidatos precisarão reunir '\\\n",
    "        'os documentos exigidos e comparecer ao endereço informado pela instituição de ensino em que estudarão.')\n",
    "# Detectando o idoma e traduzindo para o inglês\n",
    "print('Idioma: {}'.format(sentence.detect_language()))\n",
    "print('-------------------------------------------------------------')\n",
    "sentence = sentence.translate(to='en')\n",
    "print('Tradução: {}'.format(sentence))\n",
    "print('-------------------------------------------------------------')\n",
    "# Imprimindo o resultado da análise\n",
    "print(sentence.sentiment)\n",
    "print('Polaridade: {}'.format(sentence.sentiment.polarity))\n",
    "print('-------------------------------------------------------------')"
   ]
  },
  {
   "cell_type": "code",
   "execution_count": 4,
   "metadata": {},
   "outputs": [
    {
     "name": "stdout",
     "output_type": "stream",
     "text": [
      "Idioma: pt\n",
      "-------------------------------------------------------------\n",
      "Tradução: Nine people were injured in an accident involving two trains that crashed at the time of SuperVia's São Cristóvão Station, in Rio's Northern Zone, on Wednesday morning (27). Among the wounded is one of the engineers, who was trapped among the wreckage. Seven wounded were taken to the Hospital Souza Aguiar, and one went to Salgado Filho, in Méier.\n",
      "\n",
      "The collision happened between a train of the branch of Deodoro, that came from Central, and a composition still not identified that also left Central. The accident happened at 6:55 am.\n",
      "\n",
      "The shock was so violent that the locomotive of one of the trains was released from the chassis and was crushed. Firefighters tried since 7:15 to make their way through these debris to release the driver.\n",
      "-------------------------------------------------------------\n",
      "Sentiment(polarity=-0.18333333333333335, subjectivity=0.26666666666666666)\n",
      "Polaridade: -0.18333333333333335\n",
      "-------------------------------------------------------------\n"
     ]
    }
   ],
   "source": [
    "# Exemplo TextBlob - Passo 3\n",
    "#\n",
    "# Traduzindo para o inglês antes de submeter\n",
    "#\n",
    "from textblob import TextBlob\n",
    "# Definindo um texto a ser analisado\n",
    "sentence = TextBlob('''\n",
    "Nove pessoas ficaram feridas em um acidente envolvendo dois trens que colidiram na altura da Estação São Cristóvão da SuperVia, na Zona Norte do Rio, na manhã desta quarta-feira (27). Entre os feridos está um dos maquinistas, que ficou preso entre os destroços. Sete feridos foram levados para o Hospital Souza Aguiar, e um foi para o Salgado Filho, no Méier.\n",
    "\n",
    "A colisão aconteceu entre um trem do ramal de Deodoro, que vinha da Central, e uma composição ainda não identificada que também saiu da Central. O acidente aconteceu às 6h55.\n",
    "\n",
    "O choque foi tão violento que a locomotiva de um dos trens se soltou do chassi e ficou esmagada. Bombeiros tentavam desde as 7h15 abrir caminho entre esses destroços para soltar o condutor.\n",
    "''')\n",
    "# Detectando o idoma e traduzindo para o inglês\n",
    "print('Idioma: {}'.format(sentence.detect_language()))\n",
    "print('-------------------------------------------------------------')\n",
    "sentence = sentence.translate(to='en')\n",
    "print('Tradução: {}'.format(sentence))\n",
    "print('-------------------------------------------------------------')\n",
    "# Imprimindo o resultado da análise\n",
    "print(sentence.sentiment)\n",
    "print('Polaridade: {}'.format(sentence.sentiment.polarity))\n",
    "print('-------------------------------------------------------------')"
   ]
  },
  {
   "cell_type": "code",
   "execution_count": 9,
   "metadata": {},
   "outputs": [
    {
     "name": "stdout",
     "output_type": "stream",
     "text": [
      "Idioma: pt\n",
      "-------------------------------------------------------------\n",
      "Tradução: US President Donald Trump and North Korean leader Kim Jong-un met on Wednesday in Hanoi, Vietnam. A meeting alone followed by a dinner with advisors marks the start of this second summit with the two leaders, which will last two days.\n",
      "\n",
      "Kim and Trump met at the French colonial-style hotel Sofitel Legend Metropole at 6.30 pm local time (8:30 am in Brasilia).\n",
      "\n",
      "    \"Your country has tremendous economic potential - you will have a tremendous future for your country, you are a great leader,\" said Trump to Kim in the press.\n",
      "\n",
      "\"I thought the first summit was a great success, and I'm hopeful that it will be just as good or better than the first,\" Trump added.\n",
      "-------------------------------------------------------------\n",
      "Sentiment(polarity=0.2791666666666667, subjectivity=0.41614583333333327)\n",
      "Polaridade: 0.2791666666666667\n",
      "-------------------------------------------------------------\n"
     ]
    }
   ],
   "source": [
    "# Exemplo TextBlob - Passo 3\n",
    "#\n",
    "# Traduzindo para o inglês antes de submeter\n",
    "#\n",
    "from textblob import TextBlob\n",
    "# Definindo um texto a ser analisado\n",
    "sentence = TextBlob('''\n",
    "O presidente dos Estados Unidos, Donald Trump, e o líder da Coreia do Norte, Kim Jong-un, se encontraram nesta quarta-feira (27) em Hanói, no Vietnã. Uma reunião a sós seguida por um jantar com assessores marcam o início desta segunda cúpula com os dois líderes, que vai durar dois dias.\n",
    "\n",
    "Kim e Trump se encontraram no hotel de estilo colonial francês Sofitel Legend Metropole às 18h30 horário local (8h30 em Brasília).\n",
    "\n",
    "    \"Seu país tem um potencial econômico tremendo. Você terá um futuro tremendo para seu país, você é um grande líder. Vamos ajudar\", disse Trump a Kim diante da imprensa.\n",
    "\n",
    "\"Achei que a primeira cúpula foi um grande sucesso, e estou esperançoso de que esta será igual ou melhor que a primeira\", completou Trump.\n",
    "''')\n",
    "# Detectando o idoma e traduzindo para o inglês\n",
    "print('Idioma: {}'.format(sentence.detect_language()))\n",
    "print('-------------------------------------------------------------')\n",
    "sentence = sentence.translate(to='en')\n",
    "print('Tradução: {}'.format(sentence))\n",
    "print('-------------------------------------------------------------')\n",
    "# Imprimindo o resultado da análise\n",
    "print(sentence.sentiment)\n",
    "print('Polaridade: {}'.format(sentence.sentiment.polarity))\n",
    "print('-------------------------------------------------------------')"
   ]
  },
  {
   "cell_type": "markdown",
   "metadata": {},
   "source": [
    "FIM"
   ]
  },
  {
   "cell_type": "markdown",
   "metadata": {},
   "source": [
    "# Análise de Sentimento com NLTK Vader\n",
    "\n",
    "**APRESENTAÇÃO**:\n",
    "\n",
    "O NLTK vem com um módulo interno de análise de sentimentos - nltk.sentiment.vader - que pode analisar um trecho de texto e classificar as sentenças em polaridade positiva, negativa e neutra de sentimentos. \n",
    "\n",
    "**ESPECIFICAÇÕES**:\n",
    "\n",
    "Provê uma pontuação de intensidade de sentença às sentenças. Retorna no formato \n",
    "- neg: valor de 0 a 1 que representa sentimento negativo\n",
    "- neu: valor de 0 a 1 que representa sentimento neutro\n",
    "- pos: valor de 0 a 1 que representa sentimento positivo\n",
    "- compound: Valor composto pela normalização da soma dos sentimentos do texto \n",
    "\n",
    "**apenas em inglês**. \n",
    "\n",
    "- Site oficial e documentação: http://www.nltk.org/api/nltk.sentiment.html"
   ]
  },
  {
   "cell_type": "markdown",
   "metadata": {},
   "source": [
    "# Exemplo NLTK Vader"
   ]
  },
  {
   "cell_type": "code",
   "execution_count": 10,
   "metadata": {},
   "outputs": [
    {
     "name": "stdout",
     "output_type": "stream",
     "text": [
      "Requirement already up-to-date: nltk in /home/03662232677/anaconda3/envs/pln_ase/lib/python3.6/site-packages (3.4)\n",
      "Requirement already satisfied, skipping upgrade: six in /home/03662232677/anaconda3/envs/pln_ase/lib/python3.6/site-packages (from nltk) (1.12.0)\n",
      "Requirement already satisfied, skipping upgrade: singledispatch in /home/03662232677/anaconda3/envs/pln_ase/lib/python3.6/site-packages (from nltk) (3.4.0.3)\n"
     ]
    },
    {
     "name": "stderr",
     "output_type": "stream",
     "text": [
      "[nltk_data] Downloading package vader_lexicon to\n",
      "[nltk_data]     /home/03662232677/nltk_data...\n",
      "[nltk_data]   Package vader_lexicon is already up-to-date!\n"
     ]
    },
    {
     "name": "stdout",
     "output_type": "stream",
     "text": [
      "Requirement already satisfied: googletrans in /home/03662232677/anaconda3/envs/pln_ase/lib/python3.6/site-packages (2.4.0)\n",
      "Requirement already satisfied: requests in /home/03662232677/anaconda3/envs/pln_ase/lib/python3.6/site-packages (from googletrans) (2.21.0)\n",
      "Requirement already satisfied: urllib3<1.25,>=1.21.1 in /home/03662232677/anaconda3/envs/pln_ase/lib/python3.6/site-packages (from requests->googletrans) (1.24.1)\n",
      "Requirement already satisfied: idna<2.9,>=2.5 in /home/03662232677/anaconda3/envs/pln_ase/lib/python3.6/site-packages (from requests->googletrans) (2.8)\n",
      "Requirement already satisfied: certifi>=2017.4.17 in /home/03662232677/anaconda3/envs/pln_ase/lib/python3.6/site-packages (from requests->googletrans) (2018.11.29)\n",
      "Requirement already satisfied: chardet<3.1.0,>=3.0.2 in /home/03662232677/anaconda3/envs/pln_ase/lib/python3.6/site-packages (from requests->googletrans) (3.0.4)\n"
     ]
    }
   ],
   "source": [
    "# Exemplo NLTK Vader - Passo 1\n",
    "#\n",
    "# Instalando a biblioteca do NLTK, baixando a base léxica do Vader\n",
    "# Baixando também a biblioteca googletrans para fazer tradução com o Google Translate\n",
    "#\n",
    "!pip install --upgrade nltk\n",
    "import nltk\n",
    "nltk.download('vader_lexicon')\n",
    "!pip install googletrans"
   ]
  },
  {
   "cell_type": "code",
   "execution_count": 5,
   "metadata": {},
   "outputs": [
    {
     "name": "stdout",
     "output_type": "stream",
     "text": [
      "Team, I know that times are tough! Product sales have been disappointing for the past three quarters. We have a competitive product, but we need to do a better job of selling it!\n",
      "-------------------------------------------------------------\n",
      "neg: 0.095, \n",
      "neu: 0.74, \n",
      "pos: 0.165, \n",
      "compound: 0.5321, \n",
      "-------------------------------------------------------------\n"
     ]
    }
   ],
   "source": [
    "# Exemplo NLTK Vader - Passo 2\n",
    "#\n",
    "# Realizando uma chamada simples com texto em inglês\n",
    "#\n",
    "import nltk\n",
    "from nltk.sentiment.vader import SentimentIntensityAnalyzer \n",
    "# Definindo um texto a ser analisado\n",
    "sentence = 'Team, I know that times are tough! Product '\\\n",
    "        'sales have been disappointing for the past three '\\\n",
    "        'quarters. We have a competitive product, but we '\\\n",
    "        'need to do a better job of selling it!'\n",
    "print(sentence)\n",
    "print('-------------------------------------------------------------')\n",
    "# Fazendo a chamada  \n",
    "sid = SentimentIntensityAnalyzer()\n",
    "ss = sid.polarity_scores(sentence)\n",
    "for k in ss:\n",
    "    print('{0}: {1}, '.format(k, ss[k]), end='\\n')\n",
    "print('-------------------------------------------------------------')    "
   ]
  },
  {
   "cell_type": "code",
   "execution_count": 11,
   "metadata": {},
   "outputs": [
    {
     "name": "stdout",
     "output_type": "stream",
     "text": [
      "Tradução: The result of the first call of the Unified Selection System (Sisu) was released on Monday (28). To access the list of approved, you must enter the website of the program. Registration will take place between January 30 and February 4. During this period, candidates will need to gather the required documents and attend the address informed by the educational institution in which they will study.\n",
      "-------------------------------------------------------------\n",
      "neg: 0.039, \n",
      "neu: 0.961, \n",
      "pos: 0.0, \n",
      "compound: -0.296, \n",
      "-------------------------------------------------------------\n"
     ]
    }
   ],
   "source": [
    "# Exemplo NLTK Vader - Passo 2\n",
    "#\n",
    "# Traduzindo para o inglês antes de submeter\n",
    "#\n",
    "from googletrans import Translator\n",
    "import nltk\n",
    "from nltk.sentiment.vader import SentimentIntensityAnalyzer \n",
    "# Definindo um texto a ser analisado\n",
    "sentence = 'O resultado da primeira chamada do Sistema de Seleção Unificada (Sisu) '\\\n",
    "        'foi divulgado nesta segunda-feira (28). Para acessar a lista de aprovados, '\\\n",
    "        'é preciso entrar no site do programa. As matrículas ocorrerão entre 30 de '\\\n",
    "        'janeiro e 4 de fevereiro. Nesse período, os candidatos precisarão reunir '\\\n",
    "        'os documentos exigidos e comparecer ao endereço informado pela instituição de ensino em que estudarão.'\n",
    "translator = Translator()\n",
    "translation = translator.translate(sentence, dest='en').text\n",
    "print('Tradução: {}'.format(translation))\n",
    "print('-------------------------------------------------------------')\n",
    "# Fazendo a chamada  \n",
    "sid = SentimentIntensityAnalyzer()\n",
    "ss = sid.polarity_scores(sentence)\n",
    "for k in ss:\n",
    "    print('{0}: {1}, '.format(k, ss[k]), end='\\n')\n",
    "print('-------------------------------------------------------------')"
   ]
  },
  {
   "cell_type": "code",
   "execution_count": 15,
   "metadata": {},
   "outputs": [
    {
     "name": "stdout",
     "output_type": "stream",
     "text": [
      "Tradução: US President Donald Trump and North Korean leader Kim Jong-un met on Wednesday in Hanoi, Vietnam. A meeting alone followed by a dinner with advisors marks the start of this second summit with the two leaders, which will last two days.\n",
      "\n",
      "Kim and Trump met at the French colonial-style hotel Sofitel Legend Metropole at 6.30 pm local time (8:30 am in Brasilia).\n",
      "\n",
      "    \"Your country has tremendous economic potential - you will have a tremendous future for your country, you are a great leader,\" said Trump to Kim in the press.\n",
      "\n",
      "\"I thought the first summit was a great success, and I'm hopeful that it will be just as good or better than the first,\" Trump added.\n",
      "-------------------------------------------------------------\n",
      "neg: 0.038, \n",
      "neu: 0.962, \n",
      "pos: 0.0, \n",
      "compound: -0.5267, \n",
      "-------------------------------------------------------------\n"
     ]
    }
   ],
   "source": [
    "# Exemplo NLTK Vader - Passo 2\n",
    "#\n",
    "# Traduzindo para o inglês antes de submeter\n",
    "#\n",
    "from googletrans import Translator\n",
    "import nltk\n",
    "from nltk.sentiment.vader import SentimentIntensityAnalyzer \n",
    "# Definindo um texto a ser analisado\n",
    "sentence = '''\n",
    "O presidente dos Estados Unidos, Donald Trump, e o líder da Coreia do Norte, Kim Jong-un, se encontraram nesta quarta-feira (27) em Hanói, no Vietnã. Uma reunião a sós seguida por um jantar com assessores marcam o início desta segunda cúpula com os dois líderes, que vai durar dois dias.\n",
    "\n",
    "Kim e Trump se encontraram no hotel de estilo colonial francês Sofitel Legend Metropole às 18h30 horário local (8h30 em Brasília).\n",
    "\n",
    "    \"Seu país tem um potencial econômico tremendo. Você terá um futuro tremendo para seu país, você é um grande líder. Vamos ajudar\", disse Trump a Kim diante da imprensa.\n",
    "\n",
    "\"Achei que a primeira cúpula foi um grande sucesso, e estou esperançoso de que esta será igual ou melhor que a primeira\", completou Trump.\n",
    "'''\n",
    "translator = Translator()\n",
    "translation = translator.translate(sentence, dest='en').text\n",
    "print('Tradução: {}'.format(translation))\n",
    "print('-------------------------------------------------------------')\n",
    "# Fazendo a chamada  \n",
    "sid = SentimentIntensityAnalyzer()\n",
    "ss = sid.polarity_scores(sentence)\n",
    "for k in ss:\n",
    "    print('{0}: {1}, '.format(k, ss[k]), end='\\n')\n",
    "print('-------------------------------------------------------------')"
   ]
  },
  {
   "cell_type": "markdown",
   "metadata": {},
   "source": [
    "# Análise de Sentimento com Pattern\n",
    "\n",
    "**APRESENTAÇÃO**:\n",
    "\n",
    "O módulo pattern.en contém um tagger fast-of-speech para o inglês (identifica substantivos, adjetivos, verbos, etc. em uma frase), análise de sentimento, ferramentas para conjugação de verbos em inglês e singularização e pluralização de substantivos e uma interface WordNet.\n",
    "\n",
    "**ESPECIFICAÇÕES**:\n",
    "\n",
    "A função **sentiment()** retorna um parâmetro (polaridade, subjetividade) para a frase dada, com base nos adjetivos que ela contém, onde:\n",
    "- **polaridade** é um valor entre -1,0 e +1,0 \n",
    "- **subjetividade** entre 0,0 e 1,0. \n",
    "\n",
    "A sentença pode ser uma string, texto, frase, pedaço, palavra ou uma sincronia (veja abaixo).\n",
    "\n",
    "A função **positive()** retorna True se a polaridade da sentença dada estiver acima do limite. O limite pode ser reduzido ou aumentado, mas, em geral, o +0.1 fornece os melhores resultados para análises de produtos. A precisão é de cerca de 75% para revisões de filmes.\n",
    "\n",
    "Nota: Existe que esteja instalado o pacote libmysqlclient-dev no Linux\n",
    "\n",
    "**apenas em inglês**. \n",
    "\n",
    "- Site oficial e documentação: https://www.clips.uantwerpen.be/pages/pattern-en#sentiment"
   ]
  },
  {
   "cell_type": "markdown",
   "metadata": {},
   "source": [
    "# Exemplo Pattern"
   ]
  },
  {
   "cell_type": "code",
   "execution_count": 16,
   "metadata": {},
   "outputs": [
    {
     "name": "stdout",
     "output_type": "stream",
     "text": [
      "Requirement already up-to-date: pattern in /home/03662232677/anaconda3/envs/pln_ase/lib/python3.6/site-packages (3.6)\n",
      "Requirement already satisfied, skipping upgrade: nltk in /home/03662232677/anaconda3/envs/pln_ase/lib/python3.6/site-packages (from pattern) (3.4)\n",
      "Requirement already satisfied, skipping upgrade: feedparser in /home/03662232677/anaconda3/envs/pln_ase/lib/python3.6/site-packages (from pattern) (5.2.1)\n",
      "Requirement already satisfied, skipping upgrade: numpy in /home/03662232677/anaconda3/envs/pln_ase/lib/python3.6/site-packages (from pattern) (1.16.0)\n",
      "Requirement already satisfied, skipping upgrade: pdfminer.six in /home/03662232677/anaconda3/envs/pln_ase/lib/python3.6/site-packages (from pattern) (20181108)\n",
      "Requirement already satisfied, skipping upgrade: mysqlclient in /home/03662232677/anaconda3/envs/pln_ase/lib/python3.6/site-packages (from pattern) (1.4.1)\n",
      "Requirement already satisfied, skipping upgrade: scipy in /home/03662232677/anaconda3/envs/pln_ase/lib/python3.6/site-packages (from pattern) (1.2.0)\n",
      "Requirement already satisfied, skipping upgrade: python-docx in /home/03662232677/anaconda3/envs/pln_ase/lib/python3.6/site-packages (from pattern) (0.8.10)\n",
      "Requirement already satisfied, skipping upgrade: beautifulsoup4 in /home/03662232677/anaconda3/envs/pln_ase/lib/python3.6/site-packages (from pattern) (4.7.1)\n",
      "Requirement already satisfied, skipping upgrade: backports.csv in /home/03662232677/anaconda3/envs/pln_ase/lib/python3.6/site-packages (from pattern) (1.0.6)\n",
      "Requirement already satisfied, skipping upgrade: future in /home/03662232677/anaconda3/envs/pln_ase/lib/python3.6/site-packages (from pattern) (0.17.1)\n",
      "Requirement already satisfied, skipping upgrade: lxml in /home/03662232677/anaconda3/envs/pln_ase/lib/python3.6/site-packages (from pattern) (4.3.0)\n",
      "Requirement already satisfied, skipping upgrade: cherrypy in /home/03662232677/anaconda3/envs/pln_ase/lib/python3.6/site-packages (from pattern) (18.1.0)\n",
      "Requirement already satisfied, skipping upgrade: requests in /home/03662232677/anaconda3/envs/pln_ase/lib/python3.6/site-packages (from pattern) (2.21.0)\n",
      "Requirement already satisfied, skipping upgrade: singledispatch in /home/03662232677/anaconda3/envs/pln_ase/lib/python3.6/site-packages (from nltk->pattern) (3.4.0.3)\n",
      "Requirement already satisfied, skipping upgrade: six in /home/03662232677/anaconda3/envs/pln_ase/lib/python3.6/site-packages (from nltk->pattern) (1.12.0)\n",
      "Requirement already satisfied, skipping upgrade: sortedcontainers in /home/03662232677/anaconda3/envs/pln_ase/lib/python3.6/site-packages (from pdfminer.six->pattern) (2.1.0)\n",
      "Requirement already satisfied, skipping upgrade: pycryptodome in /home/03662232677/anaconda3/envs/pln_ase/lib/python3.6/site-packages (from pdfminer.six->pattern) (3.7.3)\n",
      "Requirement already satisfied, skipping upgrade: soupsieve>=1.2 in /home/03662232677/anaconda3/envs/pln_ase/lib/python3.6/site-packages (from beautifulsoup4->pattern) (1.7.3)\n",
      "Requirement already satisfied, skipping upgrade: zc.lockfile in /home/03662232677/anaconda3/envs/pln_ase/lib/python3.6/site-packages (from cherrypy->pattern) (1.4)\n",
      "Requirement already satisfied, skipping upgrade: portend>=2.1.1 in /home/03662232677/anaconda3/envs/pln_ase/lib/python3.6/site-packages (from cherrypy->pattern) (2.3)\n",
      "Requirement already satisfied, skipping upgrade: cheroot>=6.2.4 in /home/03662232677/anaconda3/envs/pln_ase/lib/python3.6/site-packages (from cherrypy->pattern) (6.5.4)\n",
      "Requirement already satisfied, skipping upgrade: more-itertools in /home/03662232677/anaconda3/envs/pln_ase/lib/python3.6/site-packages (from cherrypy->pattern) (5.0.0)\n",
      "Requirement already satisfied, skipping upgrade: certifi>=2017.4.17 in /home/03662232677/anaconda3/envs/pln_ase/lib/python3.6/site-packages (from requests->pattern) (2018.11.29)\n",
      "Requirement already satisfied, skipping upgrade: idna<2.9,>=2.5 in /home/03662232677/anaconda3/envs/pln_ase/lib/python3.6/site-packages (from requests->pattern) (2.8)\n",
      "Requirement already satisfied, skipping upgrade: urllib3<1.25,>=1.21.1 in /home/03662232677/anaconda3/envs/pln_ase/lib/python3.6/site-packages (from requests->pattern) (1.24.1)\n",
      "Requirement already satisfied, skipping upgrade: chardet<3.1.0,>=3.0.2 in /home/03662232677/anaconda3/envs/pln_ase/lib/python3.6/site-packages (from requests->pattern) (3.0.4)\n",
      "Requirement already satisfied, skipping upgrade: setuptools in /home/03662232677/anaconda3/envs/pln_ase/lib/python3.6/site-packages (from zc.lockfile->cherrypy->pattern) (40.6.3)\n",
      "Requirement already satisfied, skipping upgrade: tempora>=1.8 in /home/03662232677/anaconda3/envs/pln_ase/lib/python3.6/site-packages (from portend>=2.1.1->cherrypy->pattern) (1.14)\n",
      "Requirement already satisfied, skipping upgrade: backports.functools-lru-cache in /home/03662232677/anaconda3/envs/pln_ase/lib/python3.6/site-packages (from cheroot>=6.2.4->cherrypy->pattern) (1.5)\n",
      "Requirement already satisfied, skipping upgrade: pytz in /home/03662232677/anaconda3/envs/pln_ase/lib/python3.6/site-packages (from tempora>=1.8->portend>=2.1.1->cherrypy->pattern) (2018.9)\n",
      "Requirement already satisfied, skipping upgrade: jaraco.functools>=1.20 in /home/03662232677/anaconda3/envs/pln_ase/lib/python3.6/site-packages (from tempora>=1.8->portend>=2.1.1->cherrypy->pattern) (2.0)\n"
     ]
    }
   ],
   "source": [
    "# Exemplo Pattern - Passo 1\n",
    "#\n",
    "# Instalando a biblioteca do Pattern\n",
    "#\n",
    "# Executar primeiro: \n",
    "#   sudo apt-get install libmysqlclient-dev\n",
    "!pip install --upgrade pattern"
   ]
  },
  {
   "cell_type": "code",
   "execution_count": 17,
   "metadata": {},
   "outputs": [
    {
     "name": "stdout",
     "output_type": "stream",
     "text": [
      "Team, I know that times are tough! Product sales have been disappointing for the past three quarters. We have a competitive product, but we need to do a better job of selling it!\n",
      "-------------------------------------------------------------\n",
      "Sentimento: (-0.17777777777777776, 0.5708333333333333)\n",
      "-------------------------------------------------------------\n",
      "Sentimento Positivo: False\n",
      "-------------------------------------------------------------\n"
     ]
    }
   ],
   "source": [
    "# Exemplo Pattern - Passo 2\n",
    "#\n",
    "# Realizando uma chamada simples da função sentiment() com texto em inglês\n",
    "#\n",
    "from pattern.en import sentiment \n",
    "from pattern.en import positive \n",
    "# Definindo um texto a ser analisado\n",
    "sentence = 'Team, I know that times are tough! Product '\\\n",
    "        'sales have been disappointing for the past three '\\\n",
    "        'quarters. We have a competitive product, but we '\\\n",
    "        'need to do a better job of selling it!'\n",
    "print(sentence)\n",
    "print('-------------------------------------------------------------')\n",
    "# Fazendo a chamada de sentiment()\n",
    "print('Sentimento: {}'.format(sentiment(sentence)))\n",
    "print('-------------------------------------------------------------')\n",
    "# Fazendo a chamada de positive()\n",
    "print('Sentimento Positivo: {}'.format(positive(sentence,threshold=0.1)))\n",
    "print('-------------------------------------------------------------')"
   ]
  },
  {
   "cell_type": "code",
   "execution_count": 18,
   "metadata": {},
   "outputs": [
    {
     "name": "stdout",
     "output_type": "stream",
     "text": [
      "Tradução: The result of the first call of the Unified Selection System (Sisu) was released on Monday (28). To access the list of approved, you must enter the website of the program. Registration will take place between January 30 and February 4. During this period, candidates will need to gather the required documents and attend the address informed by the educational institution in which they will study.\n",
      "-------------------------------------------------------------\n",
      "Sentimento: (0.25, 0.29166666666666663)\n",
      "-------------------------------------------------------------\n",
      "Sentimento Positivo: True\n",
      "-------------------------------------------------------------\n"
     ]
    }
   ],
   "source": [
    "# Exemplo Pattern - Passo 3\n",
    "#\n",
    "# Traduzindo para o inglês antes de submeter\n",
    "#\n",
    "from googletrans import Translator\n",
    "import nltk\n",
    "from nltk.sentiment.vader import SentimentIntensityAnalyzer \n",
    "# Definindo um texto a ser analisado\n",
    "sentence = 'O resultado da primeira chamada do Sistema de Seleção Unificada (Sisu) '\\\n",
    "        'foi divulgado nesta segunda-feira (28). Para acessar a lista de aprovados, '\\\n",
    "        'é preciso entrar no site do programa. As matrículas ocorrerão entre 30 de '\\\n",
    "        'janeiro e 4 de fevereiro. Nesse período, os candidatos precisarão reunir '\\\n",
    "        'os documentos exigidos e comparecer ao endereço informado pela instituição de ensino em que estudarão.'\n",
    "translator = Translator()\n",
    "translation = translator.translate(sentence, dest='en').text\n",
    "print('Tradução: {}'.format(translation))\n",
    "print('-------------------------------------------------------------')\n",
    "# Fazendo a chamada de sentiment()\n",
    "print('Sentimento: {}'.format(sentiment(translation)))\n",
    "print('-------------------------------------------------------------')\n",
    "# Fazendo a chamada de positive()\n",
    "print('Sentimento Positivo: {}'.format(positive(translation,threshold=0.1)))\n",
    "print('-------------------------------------------------------------')"
   ]
  },
  {
   "cell_type": "code",
   "execution_count": 21,
   "metadata": {},
   "outputs": [
    {
     "name": "stdout",
     "output_type": "stream",
     "text": [
      "Tradução: US President Donald Trump and North Korean leader Kim Jong-un met on Wednesday in Hanoi, Vietnam. A meeting alone followed by a dinner with advisors marks the start of this second summit with the two leaders, which will last two days.\n",
      "\n",
      "Kim and Trump met at the French colonial-style hotel Sofitel Legend Metropole at 6.30 pm local time (8:30 am in Brasilia).\n",
      "\n",
      "    \"Your country has tremendous economic potential - you will have a tremendous future for your country, you are a great leader,\" said Trump to Kim in the press.\n",
      "\n",
      "\"I thought the first summit was a great success, and I'm hopeful that it will be just as good or better than the first,\" Trump added.\n",
      "-------------------------------------------------------------\n",
      "Sentimento: (0.2791666666666667, 0.41614583333333327)\n",
      "-------------------------------------------------------------\n",
      "Sentimento Positivo: True\n",
      "-------------------------------------------------------------\n"
     ]
    }
   ],
   "source": [
    "# Exemplo Pattern - Passo 3\n",
    "#\n",
    "# Traduzindo para o inglês antes de submeter\n",
    "#\n",
    "from googletrans import Translator\n",
    "import nltk\n",
    "from nltk.sentiment.vader import SentimentIntensityAnalyzer \n",
    "# Definindo um texto a ser analisado\n",
    "sentence = '''\n",
    "\n",
    "\n",
    "O presidente dos Estados Unidos, Donald Trump, e o líder da Coreia do Norte, Kim Jong-un, se encontraram nesta quarta-feira (27) em Hanói, no Vietnã. Uma reunião a sós seguida por um jantar com assessores marcam o início desta segunda cúpula com os dois líderes, que vai durar dois dias.\n",
    "\n",
    "Kim e Trump se encontraram no hotel de estilo colonial francês Sofitel Legend Metropole às 18h30 horário local (8h30 em Brasília).\n",
    "\n",
    "    \"Seu país tem um potencial econômico tremendo. Você terá um futuro tremendo para seu país, você é um grande líder. Vamos ajudar\", disse Trump a Kim diante da imprensa.\n",
    "\n",
    "\"Achei que a primeira cúpula foi um grande sucesso, e estou esperançoso de que esta será igual ou melhor que a primeira\", completou Trump.\n",
    "'''\n",
    "translator = Translator()\n",
    "translation = translator.translate(sentence, dest='en').text\n",
    "print('Tradução: {}'.format(translation))\n",
    "print('-------------------------------------------------------------')\n",
    "# Fazendo a chamada de sentiment()\n",
    "print('Sentimento: {}'.format(sentiment(translation)))\n",
    "print('-------------------------------------------------------------')\n",
    "# Fazendo a chamada de positive()\n",
    "print('Sentimento Positivo: {}'.format(positive(translation,threshold=0.1)))\n",
    "print('-------------------------------------------------------------')"
   ]
  },
  {
   "cell_type": "markdown",
   "metadata": {},
   "source": [
    "FIM"
   ]
  }
 ],
 "metadata": {
  "kernelspec": {
   "display_name": "Python 3",
   "language": "python",
   "name": "python3"
  },
  "language_info": {
   "codemirror_mode": {
    "name": "ipython",
    "version": 3
   },
   "file_extension": ".py",
   "mimetype": "text/x-python",
   "name": "python",
   "nbconvert_exporter": "python",
   "pygments_lexer": "ipython3",
   "version": "3.6.0"
  }
 },
 "nbformat": 4,
 "nbformat_minor": 2
}
