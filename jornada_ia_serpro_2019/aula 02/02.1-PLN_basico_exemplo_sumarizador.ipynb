{
 "cells": [
  {
   "cell_type": "markdown",
   "metadata": {},
   "source": [
    "# Processamento de Linguagem Natural (PLN) - Básico\n",
    "\n",
    "SERPRO - SUPSS - DIVISÃO DE DESENVOLVIMENTO E SUSTENTAÇÃO DE PRODUTOS COGNITIVOS"
   ]
  },
  {
   "cell_type": "markdown",
   "metadata": {},
   "source": [
    "## Parte 2: Exemplo - Sumarizador de Texto"
   ]
  },
  {
   "cell_type": "markdown",
   "metadata": {},
   "source": [
    "__Objetivo__: Sumarizar um texto automaticamente usando PLN. Ou seja, gerar um resumo sobre um texto. \n",
    "\n",
    "__Tarefas__: \n",
    "1. Extrair o texto de uma fonte de dados. No caso do exemplo, um artigo que estará na web. \n",
    "2. NLTK para pré-processar os dados: tokenização, remoção de stop words etc. \n",
    "3. Aplicar estatística para gerar o resumo do texto.\n",
    "\n",
    "__Para gerar o resumo do texto__:\n",
    "\n",
    "1. Encontrar as palavras mais importantes. Importância da palavra => Frequência da palavra\n",
    "2. Computar o score de significância para cada sentença com base nas suas palavras. Score de significância => Soma(Importância das Palavras)\n",
    "3. Separar as sentenças mais significantes (ranking)\n",
    "\n",
    "__Em resumo:__\n",
    "\n",
    "Extrair o texto > Pré-processar > Extrair sentenças > Criar o Ranking"
   ]
  },
  {
   "cell_type": "code",
   "execution_count": 1,
   "metadata": {},
   "outputs": [
    {
     "name": "stdout",
     "output_type": "stream",
     "text": [
      "Requirement already satisfied: bs4 in /home/04449579445/anaconda3/envs/pln_basico/lib/python3.6/site-packages (0.0.1)\n",
      "Requirement already satisfied: beautifulsoup4 in /home/04449579445/anaconda3/envs/pln_basico/lib/python3.6/site-packages (from bs4) (4.7.1)\n",
      "Requirement already satisfied: soupsieve>=1.2 in /home/04449579445/anaconda3/envs/pln_basico/lib/python3.6/site-packages (from beautifulsoup4->bs4) (1.9)\n",
      "Requirement already satisfied: lxml in /home/04449579445/anaconda3/envs/pln_basico/lib/python3.6/site-packages (4.3.3)\n"
     ]
    }
   ],
   "source": [
    "# Imports\n",
    "from urllib.request import urlopen\n",
    "\n",
    "#Instalar e importar pré-requisitos\n",
    "!pip install bs4\n",
    "!pip install lxml\n",
    "\n",
    "import lxml\n",
    "from lxml import html\n",
    "\n",
    "#Biblioteca para extrair os dados da url\n",
    "from bs4 import BeautifulSoup"
   ]
  },
  {
   "cell_type": "markdown",
   "metadata": {},
   "source": [
    "## Web Scraping"
   ]
  },
  {
   "cell_type": "markdown",
   "metadata": {},
   "source": [
    "O artigo a ser resumido será baixado da internet. "
   ]
  },
  {
   "cell_type": "code",
   "execution_count": 2,
   "metadata": {},
   "outputs": [],
   "source": [
    "# Link para o Artigo\n",
    "articleURL = \"https://www.washingtonpost.com/news/the-switch/wp/2016/10/18/the-pentagons-massive-new-telescope-is-designed-to-track-space-junk-and-watch-out-for-killer-asteroids\""
   ]
  },
  {
   "cell_type": "code",
   "execution_count": 3,
   "metadata": {},
   "outputs": [],
   "source": [
    "# Web Scraping\n",
    "page = urlopen(articleURL).read().decode('utf8','ignore') \n",
    "soup = BeautifulSoup(page, \"html.parser\")"
   ]
  },
  {
   "cell_type": "code",
   "execution_count": 4,
   "metadata": {},
   "outputs": [
    {
     "data": {
      "text/plain": [
       "<article class=\"paywall\" itemprop=\"articleBody\"> <div class=\"inline-content inline-video\"> <div class=\"posttv-video-embed powa\" data-ad-bar=\"1\" data-aspect-ratio=\"0.5625\" data-blurb=\"1\" data-live=\"0\" data-object-id=\"580640a4e4b0d16481f68b07\" data-org=\"wapo\" data-playthrough=\"1\" data-uuid=\"24fd7912-9548-11e6-9cae-2a3574e296a6\" data-youtube-id=\"aGH_nLCOWOw\"> <script async=\"\" src=\"https://d1pz6dax0t5mop.cloudfront.net/prod/PoWaLoaderWapo.js?_=20181113\"></script> </div> <div class=\"inline-video-caption\"> <span class=\"pb-caption\">The Space Surveillance Telescope offers improvements in determining the orbits of newly discovered objects and provides rapid observations of events that may only occur over a relatively short period of time, like a supernova. (DARPAtv)</span> </div> </div> <div class=\"flex-embed-dummy-script\"><script charset=\"utf-8\"></script></div> <p>There are a lot of rocks flying around through space. Lots of debris, too. Old satellites, spent rocket boosters, even for a short while a spatula that got loose during a space shuttle mission in 2006. All of it swirling around in orbit, creating a bit of a traffic jam.</p> <p>For years, the Pentagon has been worried about the collisions that might be caused by an estimated 500,000 pieces of debris, taking out enormously valuable satellites and, in turn, creating even more debris. On Tuesday, the Defense Department took another significant step toward monitoring all of the cosmic junk swirling around in space, by delivering a gigantic new telescope capable of seeing small objects from very far away.</p> <p>Developed by the Defense Advanced Research Project Agency, the Space Surveillance Telescope was formally transferred to the Air Force during a ceremony at White Sands Missile Base in New Mexico Tuesday.</p> <p>The telescope is designed to monitor objects as small as softballs, in Geosynchonous orbit (GEO)—some of the most important real estate in space. At about 22,000 miles away, its orbit mirrors that of the Earth, so that satellites parked there remain in a fixed point over the globe. That allows satellite television or communications providers to serve particular areas—say, North America or Asia—uninterrupted.</p> <p>But not only is the orbit far away—it’s incredibly vast. “A volume of tens of thousands of oceans,” said Lindsay Millard, DARPA’s program manager in a podcast posted on the agency’s website. But the telescope's ability to see “something very far away over a very wide area is really what it’s best at.”</p> <p>DARPA says the advanced technology in the massive, 90-ton telescope would allow officials to go from “seeing only a few large objects at a time through the equivalent of a drinking straw to a windshield view with 10,000 objects at a time.” It is also being used by NASA to monitor asteroids and other near-Earth objects that could collide with the planet, officials said.</p> <p>Over the next two years, the telescope is going to be moved and reconstructed in Australia, a vantage point that would allow it to survey an under served area of space.</p> <p>The telescope is “a big improvement over the legacy ground-based optical telescopes that are used by the U.S. Air Force, because it can search large areas of sky and also track very faint (small) objects in and around GEO,” Brian Weeden, a Technical Advisor at the Secure World Foundation, wrote in an email. “That's a critical capability for the U.S. military, as they have a lot of very important satellites in GEO, and are increasingly worried about threats to those satellites.”</p> <p>The telescope would join another new space debris tracking technology known as the Space Fence, which is now being built by Bethesda-based Lockheed Martin. The radar system is going to be located on Kwajalein Atoll in the Marshall Islands and would use radar to help the Air Force track 10 times amount of debris than it currently monitors.</p> <p>With many valuable assets in space—satellites used for intelligence, communications and guiding weapons—the Pentagon has become increasingly concerned with what it calls “space situational awareness.” Instead of being a benign environment, the Pentagon likes to say that space has become “contested, congested and competitive.” In orbit, debris moves very fast, as much as 17,500 m.p.h., so that even a fleck of paint could cause damage.</p> <p>In 2007, the Chinese fired a missile that blew up a dead satellite and littered space with thousands of pieces of debris. And the Air Force has been working to make its satellites more resilient. It has plans to send swarms of small satellites into orbit that are more difficult to target.</p> <p>“Every military operation that takes place in the world today is critically dependent on space in one way or another,” Air Force Gen. John Hyten said in an interview earlier this year when he was the commander of the Air Force Space Command. “Whether our own people in the United States are fully cognizant of the dependence on space or not, the rest of the world has been watching us very closely.”</p></article>"
      ]
     },
     "execution_count": 4,
     "metadata": {},
     "output_type": "execute_result"
    }
   ],
   "source": [
    "# Coletando dados na tag \"article\"\n",
    "soup.find('article')"
   ]
  },
  {
   "cell_type": "code",
   "execution_count": 5,
   "metadata": {},
   "outputs": [
    {
     "data": {
      "text/plain": [
       "\"      The Space Surveillance Telescope offers improvements in determining the orbits of newly discovered objects and provides rapid observations of events that may only occur over a relatively short period of time, like a supernova. (DARPAtv)    There are a lot of rocks flying around through space. Lots of debris, too. Old satellites, spent rocket boosters, even for a short while a spatula that got loose during a space shuttle mission in 2006. All of it swirling around in orbit, creating a bit of a traffic jam. For years, the Pentagon has been worried about the collisions that might be caused by an\\xa0estimated 500,000 pieces of debris, taking out enormously valuable satellites and, in turn, creating even more debris. On Tuesday, the Defense Department\\xa0took another significant step toward monitoring all of the cosmic junk swirling around in space, by delivering\\xa0a gigantic new telescope capable of seeing small objects from very far away. Developed by the Defense Advanced Research Project Agency, the Space Surveillance Telescope was formally transferred to the Air Force during a ceremony at White Sands Missile Base in New Mexico Tuesday. The telescope is designed to monitor objects as small as softballs, in Geosynchonous orbit (GEO)—some of the most important real estate in space. At about 22,000 miles away, its orbit mirrors that of the Earth, so that satellites parked there remain in a fixed point over the globe. That allows satellite television or communications providers to serve particular areas—say, North America or Asia—uninterrupted. But not only is the orbit far away—it’s incredibly vast. “A volume of tens of thousands of oceans,” said Lindsay Millard, DARPA’s program manager in a podcast posted on the agency’s website. But the telescope's ability to see “something very far away over a very wide area is really what it’s best at.” DARPA says the advanced technology in the massive, 90-ton telescope would\\xa0allow officials to go from “seeing only a few large objects at a time through the equivalent of a drinking straw to a windshield view with 10,000 objects at a time.”\\xa0It is also being used by NASA to monitor asteroids and other near-Earth objects that could collide with the planet, officials said. Over the next two years, the telescope is going to be moved and reconstructed in Australia, a vantage point that would allow it to survey an under served area of space. The telescope is “a big improvement over the legacy ground-based optical telescopes that are used by the U.S. Air Force, because it can search large areas of sky and also track very faint (small) objects in and around GEO,” Brian Weeden, a Technical Advisor at the Secure World Foundation, wrote in an email. “That's a critical capability for the U.S. military, as they have a lot of very important satellites in GEO, and are increasingly worried about threats to those satellites.” The telescope would\\xa0join another new space debris tracking technology known as the Space Fence, which is now being built by Bethesda-based Lockheed Martin. The radar system is going to be located on Kwajalein Atoll in the Marshall Islands and would use radar to help the Air Force track 10 times amount of debris than it currently monitors. With many valuable assets in space—satellites used for intelligence, communications and guiding weapons—the Pentagon has become increasingly concerned with what it calls “space situational awareness.” Instead of being a benign environment, the Pentagon likes to say that space has become “contested, congested and competitive.” In orbit, debris moves very fast, as much as 17,500 m.p.h., so that even a fleck of paint could cause damage. In 2007, the Chinese fired a missile that blew up a dead satellite and littered space with thousands of pieces of debris. And the Air Force has been working to make its satellites more resilient. It has plans to send swarms of small satellites into orbit that are more difficult to target. “Every military operation that takes place in the world today is critically dependent on space in one way or another,” Air Force Gen. John Hyten said in an interview earlier this year when he was the commander of the Air Force Space Command. “Whether our own people in the United States are fully cognizant of the dependence on space or not, the rest of the world has been watching us very closely.”\""
      ]
     },
     "execution_count": 5,
     "metadata": {},
     "output_type": "execute_result"
    }
   ],
   "source": [
    "# Imprimindo apenas o texto dentro da tag\n",
    "soup.find('article').text"
   ]
  },
  {
   "cell_type": "code",
   "execution_count": 6,
   "metadata": {},
   "outputs": [
    {
     "data": {
      "text/plain": [
       "\"      The Space Surveillance Telescope offers improvements in determining the orbits of newly discovered objects and provides rapid observations of events that may only occur over a relatively short period of time, like a supernova. (DARPAtv)    There are a lot of rocks flying around through space. Lots of debris, too. Old satellites, spent rocket boosters, even for a short while a spatula that got loose during a space shuttle mission in 2006. All of it swirling around in orbit, creating a bit of a traffic jam. For years, the Pentagon has been worried about the collisions that might be caused by an\\xa0estimated 500,000 pieces of debris, taking out enormously valuable satellites and, in turn, creating even more debris. On Tuesday, the Defense Department\\xa0took another significant step toward monitoring all of the cosmic junk swirling around in space, by delivering\\xa0a gigantic new telescope capable of seeing small objects from very far away. Developed by the Defense Advanced Research Project Agency, the Space Surveillance Telescope was formally transferred to the Air Force during a ceremony at White Sands Missile Base in New Mexico Tuesday. The telescope is designed to monitor objects as small as softballs, in Geosynchonous orbit (GEO)—some of the most important real estate in space. At about 22,000 miles away, its orbit mirrors that of the Earth, so that satellites parked there remain in a fixed point over the globe. That allows satellite television or communications providers to serve particular areas—say, North America or Asia—uninterrupted. But not only is the orbit far away—it’s incredibly vast. “A volume of tens of thousands of oceans,” said Lindsay Millard, DARPA’s program manager in a podcast posted on the agency’s website. But the telescope's ability to see “something very far away over a very wide area is really what it’s best at.” DARPA says the advanced technology in the massive, 90-ton telescope would\\xa0allow officials to go from “seeing only a few large objects at a time through the equivalent of a drinking straw to a windshield view with 10,000 objects at a time.”\\xa0It is also being used by NASA to monitor asteroids and other near-Earth objects that could collide with the planet, officials said. Over the next two years, the telescope is going to be moved and reconstructed in Australia, a vantage point that would allow it to survey an under served area of space. The telescope is “a big improvement over the legacy ground-based optical telescopes that are used by the U.S. Air Force, because it can search large areas of sky and also track very faint (small) objects in and around GEO,” Brian Weeden, a Technical Advisor at the Secure World Foundation, wrote in an email. “That's a critical capability for the U.S. military, as they have a lot of very important satellites in GEO, and are increasingly worried about threats to those satellites.” The telescope would\\xa0join another new space debris tracking technology known as the Space Fence, which is now being built by Bethesda-based Lockheed Martin. The radar system is going to be located on Kwajalein Atoll in the Marshall Islands and would use radar to help the Air Force track 10 times amount of debris than it currently monitors. With many valuable assets in space—satellites used for intelligence, communications and guiding weapons—the Pentagon has become increasingly concerned with what it calls “space situational awareness.” Instead of being a benign environment, the Pentagon likes to say that space has become “contested, congested and competitive.” In orbit, debris moves very fast, as much as 17,500 m.p.h., so that even a fleck of paint could cause damage. In 2007, the Chinese fired a missile that blew up a dead satellite and littered space with thousands of pieces of debris. And the Air Force has been working to make its satellites more resilient. It has plans to send swarms of small satellites into orbit that are more difficult to target. “Every military operation that takes place in the world today is critically dependent on space in one way or another,” Air Force Gen. John Hyten said in an interview earlier this year when he was the commander of the Air Force Space Command. “Whether our own people in the United States are fully cognizant of the dependence on space or not, the rest of the world has been watching us very closely.”\""
      ]
     },
     "execution_count": 6,
     "metadata": {},
     "output_type": "execute_result"
    }
   ],
   "source": [
    "# Concatenando o Texto de todos os artigos, caso exista mais de um\n",
    "text = ' '.join(map(lambda p: p.text, soup.find_all('article')))\n",
    "text"
   ]
  },
  {
   "cell_type": "code",
   "execution_count": 7,
   "metadata": {},
   "outputs": [
    {
     "data": {
      "text/plain": [
       "\"      The Space Surveillance Telescope offers improvements in determining the orbits of newly discovered objects and provides rapid observations of events that may only occur over a relatively short period of time, like a supernova. (DARPAtv)    There are a lot of rocks flying around through space. Lots of debris, too. Old satellites, spent rocket boosters, even for a short while a spatula that got loose during a space shuttle mission in 2006. All of it swirling around in orbit, creating a bit of a traffic jam. For years, the Pentagon has been worried about the collisions that might be caused by an estimated 500,000 pieces of debris, taking out enormously valuable satellites and, in turn, creating even more debris. On Tuesday, the Defense Department took another significant step toward monitoring all of the cosmic junk swirling around in space, by delivering a gigantic new telescope capable of seeing small objects from very far away. Developed by the Defense Advanced Research Project Agency, the Space Surveillance Telescope was formally transferred to the Air Force during a ceremony at White Sands Missile Base in New Mexico Tuesday. The telescope is designed to monitor objects as small as softballs, in Geosynchonous orbit (GEO)—some of the most important real estate in space. At about 22,000 miles away, its orbit mirrors that of the Earth, so that satellites parked there remain in a fixed point over the globe. That allows satellite television or communications providers to serve particular areas—say, North America or Asia—uninterrupted. But not only is the orbit far away—it’s incredibly vast.  A volume of tens of thousands of oceans,  said Lindsay Millard, DARPA’s program manager in a podcast posted on the agency’s website. But the telescope's ability to see  something very far away over a very wide area is really what it’s best at.  DARPA says the advanced technology in the massive, 90-ton telescope would allow officials to go from  seeing only a few large objects at a time through the equivalent of a drinking straw to a windshield view with 10,000 objects at a time.  It is also being used by NASA to monitor asteroids and other near-Earth objects that could collide with the planet, officials said. Over the next two years, the telescope is going to be moved and reconstructed in Australia, a vantage point that would allow it to survey an under served area of space. The telescope is  a big improvement over the legacy ground-based optical telescopes that are used by the U.S. Air Force, because it can search large areas of sky and also track very faint (small) objects in and around GEO,  Brian Weeden, a Technical Advisor at the Secure World Foundation, wrote in an email.  That's a critical capability for the U.S. military, as they have a lot of very important satellites in GEO, and are increasingly worried about threats to those satellites.  The telescope would join another new space debris tracking technology known as the Space Fence, which is now being built by Bethesda-based Lockheed Martin. The radar system is going to be located on Kwajalein Atoll in the Marshall Islands and would use radar to help the Air Force track 10 times amount of debris than it currently monitors. With many valuable assets in space—satellites used for intelligence, communications and guiding weapons—the Pentagon has become increasingly concerned with what it calls  space situational awareness.  Instead of being a benign environment, the Pentagon likes to say that space has become  contested, congested and competitive.  In orbit, debris moves very fast, as much as 17,500 m.p.h., so that even a fleck of paint could cause damage. In 2007, the Chinese fired a missile that blew up a dead satellite and littered space with thousands of pieces of debris. And the Air Force has been working to make its satellites more resilient. It has plans to send swarms of small satellites into orbit that are more difficult to target.  Every military operation that takes place in the world today is critically dependent on space in one way or another,  Air Force Gen. John Hyten said in an interview earlier this year when he was the commander of the Air Force Space Command.  Whether our own people in the United States are fully cognizant of the dependence on space or not, the rest of the world has been watching us very closely. \""
      ]
     },
     "execution_count": 7,
     "metadata": {},
     "output_type": "execute_result"
    }
   ],
   "source": [
    "# Substituindo caracteres indesejáveis\n",
    "text.replace(\"\\xa0\",\" \").replace(\"“\",\" \").replace(\"”\",\" \")"
   ]
  },
  {
   "cell_type": "code",
   "execution_count": 8,
   "metadata": {},
   "outputs": [],
   "source": [
    "# Podemos definir uma função para fazer todos os passos anteriores de uma só vez\n",
    "# Função que executa todas as operações anteriores\n",
    "def getTextWaPo(url):\n",
    "    page = urlopen(url).read().decode('utf8')\n",
    "    soup = BeautifulSoup(page,\"html.parser\")\n",
    "    text = ' '.join(map(lambda p: p.text, soup.find_all('article')))\n",
    "    return text.replace(\"\\xa0\",\" \").replace(\"“\",\" \").replace(\"”\",\" \")"
   ]
  },
  {
   "cell_type": "code",
   "execution_count": 9,
   "metadata": {},
   "outputs": [],
   "source": [
    "# Aplicando a função e recuperando o texto\n",
    "text = getTextWaPo(articleURL)"
   ]
  },
  {
   "cell_type": "markdown",
   "metadata": {},
   "source": [
    "## Pré-processamento"
   ]
  },
  {
   "cell_type": "markdown",
   "metadata": {},
   "source": [
    "Agora que temos o texto extraído da web, vamos realizar o pré-processamento"
   ]
  },
  {
   "cell_type": "code",
   "execution_count": 10,
   "metadata": {},
   "outputs": [],
   "source": [
    "from nltk.tokenize import sent_tokenize,word_tokenize\n",
    "from nltk.corpus import stopwords\n",
    "from string import punctuation"
   ]
  },
  {
   "cell_type": "code",
   "execution_count": 11,
   "metadata": {},
   "outputs": [],
   "source": [
    "# Tokenização\n",
    "sents = sent_tokenize(text)\n",
    "words = word_tokenize(text.lower())"
   ]
  },
  {
   "cell_type": "code",
   "execution_count": 12,
   "metadata": {},
   "outputs": [],
   "source": [
    "#Obter as stopwords +lista de caracteres de pontuação para ser removidos do texto\n",
    "stopwords_english = set(stopwords.words('english') + list(punctuation))"
   ]
  },
  {
   "cell_type": "code",
   "execution_count": 13,
   "metadata": {},
   "outputs": [
    {
     "name": "stdout",
     "output_type": "stream",
     "text": [
      "50 primeiras palavras do texto após o processamento: \n",
      " ['space', 'surveillance', 'telescope', 'offers', 'improvements', 'determining', 'orbits', 'newly', 'discovered', 'objects', 'provides', 'rapid', 'observations', 'events', 'may', 'occur', 'relatively', 'short', 'period', 'time', 'like', 'supernova', 'darpatv', 'lot', 'rocks', 'flying', 'around', 'space', 'lots', 'debris', 'old', 'satellites', 'spent', 'rocket', 'boosters', 'even', 'short', 'spatula', 'got', 'loose', 'space', 'shuttle', 'mission', '2006.', 'swirling', 'around', 'orbit', 'creating', 'bit', 'traffic']\n"
     ]
    }
   ],
   "source": [
    "words =[word for word in words if word not in stopwords_english]\n",
    "print('50 primeiras palavras do texto após o processamento: \\n',words[:50])"
   ]
  },
  {
   "cell_type": "markdown",
   "metadata": {},
   "source": [
    "## Calculando as Frequências das Palavras"
   ]
  },
  {
   "cell_type": "markdown",
   "metadata": {},
   "source": [
    "Uma vez que possuímos o texto processado, vamos obter a frequências das palavras. A frequência será utilizada para realizar o ranking das frases."
   ]
  },
  {
   "cell_type": "code",
   "execution_count": 14,
   "metadata": {},
   "outputs": [
    {
     "data": {
      "text/plain": [
       "FreqDist({'space': 15, 'telescope': 9, 'objects': 7, 'debris': 7, 'satellites': 7, 'orbit': 6, 'air': 6, 'force': 6, 'around': 4, 'small': 4, ...})"
      ]
     },
     "execution_count": 14,
     "metadata": {},
     "output_type": "execute_result"
    }
   ],
   "source": [
    "#Obtenção da frequência de através da classe FreqDist\n",
    "from nltk.probability import FreqDist\n",
    "freq = FreqDist(words)\n",
    "freq"
   ]
  },
  {
   "cell_type": "code",
   "execution_count": 15,
   "metadata": {},
   "outputs": [
    {
     "data": {
      "text/plain": [
       "['space',\n",
       " 'telescope',\n",
       " 'objects',\n",
       " 'debris',\n",
       " 'satellites',\n",
       " 'orbit',\n",
       " 'air',\n",
       " 'force',\n",
       " 'around',\n",
       " 'small']"
      ]
     },
     "execution_count": 15,
     "metadata": {},
     "output_type": "execute_result"
    }
   ],
   "source": [
    "#Obtenção das palavras mais frequentes\n",
    "from heapq import nlargest\n",
    "nlargest(10, freq, key = freq.get)"
   ]
  },
  {
   "cell_type": "markdown",
   "metadata": {},
   "source": [
    "## Cria o Ranking das frases mais importantes"
   ]
  },
  {
   "cell_type": "code",
   "execution_count": 16,
   "metadata": {},
   "outputs": [
    {
     "name": "stdout",
     "output_type": "stream",
     "text": [
      "Exemplo - score da sentença 18: 34\n"
     ]
    }
   ],
   "source": [
    "# Criamos um dicionário em que as chaves serão as sentenças e os valores serão os scores de significância.\n",
    "# Calcularemos a soma das frequências das palavras que aparecem em cada sentença\n",
    "from collections import defaultdict\n",
    "ranking = defaultdict(int)\n",
    "\n",
    "for i, sent in enumerate(sents):\n",
    "    for w in word_tokenize(sent.lower()):\n",
    "        if w in freq:\n",
    "            ranking[i] += freq[w]\n",
    "            \n",
    "print('Exemplo - score da sentença 18:',ranking[18])"
   ]
  },
  {
   "cell_type": "code",
   "execution_count": 17,
   "metadata": {},
   "outputs": [
    {
     "data": {
      "text/plain": [
       "[27, 17, 6, 19]"
      ]
     },
     "execution_count": 17,
     "metadata": {},
     "output_type": "execute_result"
    }
   ],
   "source": [
    "# Obtendo os índices das 4 sentenças mais significantes\n",
    "sents_idx = nlargest(4, ranking, key=ranking.get)\n",
    "sents_idx"
   ]
  },
  {
   "cell_type": "code",
   "execution_count": 18,
   "metadata": {},
   "outputs": [
    {
     "data": {
      "text/plain": [
       "[6, 17, 19, 27]"
      ]
     },
     "execution_count": 18,
     "metadata": {},
     "output_type": "execute_result"
    }
   ],
   "source": [
    "#Ordenando as sentenças\n",
    "sorted(sents_idx)"
   ]
  },
  {
   "cell_type": "code",
   "execution_count": 19,
   "metadata": {},
   "outputs": [
    {
     "data": {
      "text/plain": [
       "['On Tuesday, the Defense Department took another significant step toward monitoring all of the cosmic junk swirling around in space, by delivering a gigantic new telescope capable of seeing small objects from very far away.',\n",
       " 'The telescope is  a big improvement over the legacy ground-based optical telescopes that are used by the U.S. Air Force, because it can search large areas of sky and also track very faint (small) objects in and around GEO,  Brian Weeden, a Technical Advisor at the Secure World Foundation, wrote in an email.',\n",
       " 'The telescope would join another new space debris tracking technology known as the Space Fence, which is now being built by Bethesda-based Lockheed Martin.',\n",
       " 'Every military operation that takes place in the world today is critically dependent on space in one way or another,  Air Force Gen. John Hyten said in an interview earlier this year when he was the commander of the Air Force Space Command.']"
      ]
     },
     "execution_count": 19,
     "metadata": {},
     "output_type": "execute_result"
    }
   ],
   "source": [
    "# Retornando as sentenças com os índices selecionados acima\n",
    "[sents[j] for j in sorted(sents_idx)]"
   ]
  },
  {
   "cell_type": "markdown",
   "metadata": {},
   "source": [
    "## Sumarizar o texto"
   ]
  },
  {
   "cell_type": "code",
   "execution_count": 20,
   "metadata": {},
   "outputs": [],
   "source": [
    "# Vamos agora criar uma função que junta todos os passos anteriores\n",
    "# Função para sumarizar o texto\n",
    "def summarize(text, n):\n",
    "    sents = sent_tokenize(text)\n",
    "    \n",
    "    assert n <= len(sents)\n",
    "    word_sent = word_tokenize(text.lower())\n",
    "    stopwords_english = set(stopwords.words('english') + list(punctuation))\n",
    "    \n",
    "    word_sent=[word for word in word_sent if word not in stopwords_english]\n",
    "    freq = FreqDist(word_sent)\n",
    "    \n",
    "    ranking = defaultdict(int)\n",
    "    \n",
    "    for i,sent in enumerate(sents):\n",
    "        for w in word_tokenize(sent.lower()):\n",
    "            if w in freq:\n",
    "                ranking[i] += freq[w]\n",
    "        \n",
    "    sents_idx = nlargest(n, ranking, key=ranking.get)\n",
    "    return [sents[j] for j in sorted(sents_idx)]"
   ]
  },
  {
   "cell_type": "code",
   "execution_count": 21,
   "metadata": {},
   "outputs": [
    {
     "data": {
      "text/plain": [
       "['On Tuesday, the Defense Department took another significant step toward monitoring all of the cosmic junk swirling around in space, by delivering a gigantic new telescope capable of seeing small objects from very far away.',\n",
       " 'The telescope is  a big improvement over the legacy ground-based optical telescopes that are used by the U.S. Air Force, because it can search large areas of sky and also track very faint (small) objects in and around GEO,  Brian Weeden, a Technical Advisor at the Secure World Foundation, wrote in an email.',\n",
       " 'Every military operation that takes place in the world today is critically dependent on space in one way or another,  Air Force Gen. John Hyten said in an interview earlier this year when he was the commander of the Air Force Space Command.']"
      ]
     },
     "execution_count": 21,
     "metadata": {},
     "output_type": "execute_result"
    }
   ],
   "source": [
    "# Sumarizando o Texto com as 4 sentenças mais importantes. \n",
    "summarize(text,3)"
   ]
  },
  {
   "cell_type": "markdown",
   "metadata": {},
   "source": [
    "# Exercício \n",
    "\n",
    "Crie uma função (summarize_tfidf). \n",
    "Esta função utilize TD-IDF para calcular as importâncias das palavras, ao invés da frequência.\n",
    "\n",
    "Dica: utilize _TfidfVectorizer()_"
   ]
  },
  {
   "cell_type": "markdown",
   "metadata": {
    "collapsed": true
   },
   "source": [
    "# Fim"
   ]
  }
 ],
 "metadata": {
  "kernelspec": {
   "display_name": "Python 3",
   "language": "python",
   "name": "python3"
  },
  "language_info": {
   "codemirror_mode": {
    "name": "ipython",
    "version": 3
   },
   "file_extension": ".py",
   "mimetype": "text/x-python",
   "name": "python",
   "nbconvert_exporter": "python",
   "pygments_lexer": "ipython3",
   "version": "3.6.8"
  },
  "toc": {
   "base_numbering": 1,
   "nav_menu": {},
   "number_sections": true,
   "sideBar": true,
   "skip_h1_title": false,
   "title_cell": "Table of Contents",
   "title_sidebar": "Contents",
   "toc_cell": false,
   "toc_position": {},
   "toc_section_display": true,
   "toc_window_display": true
  }
 },
 "nbformat": 4,
 "nbformat_minor": 1
}
