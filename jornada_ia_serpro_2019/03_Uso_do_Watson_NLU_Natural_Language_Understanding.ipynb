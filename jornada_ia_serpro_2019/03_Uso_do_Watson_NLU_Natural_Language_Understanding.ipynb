{
 "cells": [
  {
   "cell_type": "markdown",
   "metadata": {},
   "source": [
    "# Uso do Watson NLU (Natural Language Understanding)\n",
    "\n",
    "- Site Oficial: https://www.ibm.com/watson/services/natural-language-understanding/\n",
    "- Demo: https://natural-language-understanding-demo.ng.bluemix.net\n",
    "- Documentação: https://console.bluemix.net/docs/services/natural-language-understanding/getting-started.html\n",
    "- Referência para API: https://cloud.ibm.com/apidocs/natural-language-understanding\n",
    "\n",
    "**APRESENTAÇÃO**:\n",
    "\n",
    "Analisa textos para extrair metadados do conteúdo, tais como conceitos, entidades, palavras-chave, categorias, impressões, emoção, relações e funções semânticas, usando o entendimento de língua natural. Com os modelos de anotação customizada desenvolvidos usando o Watson Knowledge Studio, identifique entidades e relações específicas de domínio/segmento de mercado em texto não estruturado.\n",
    "\n",
    "**ESPECIFICAÇÕES**:\n",
    "\n",
    "Analisa vários recursos do conteúdo de texto em escala. Forneça texto, HTML bruto ou uma URL pública e o IBM Watson Natural Language Understanding fornecerá os resultados para os recursos solicitados. O serviço limpa o conteúdo HTML antes da análise por padrão, para que os resultados possam ignorar a maioria dos anúncios e outros conteúdos indesejados.\n",
    "\n",
    "- **Emoção**: Detecta raiva, desgosto, medo, alegria ou tristeza que é transmitida no conteúdo ou pelo contexto em torno das frases-alvo especificadas no parâmetro alvos. Você pode analisar a emoção de entidades e palavras-chave específicas. Essa função funciona para conteúdos **somente em inglês**.\n",
    "\n",
    "\n",
    "- **Sentimento**: Analisa o sentimento geral de seu conteúdo ou o sentimento em relação a frases-alvo específicas. Você pode analisar o sentimento de entidades e palavras-chave específicas. Essa função funciona para conteúdo em **português**.\n",
    "\n",
    "\n",
    "**PREPARATIVOS**:\n",
    "\n",
    "Para o uso vamos precisar de uma conta ativa na nuvem da IBM (BlueMix), criação de um Environment (ambiente) e a ativação do Plano:\n",
    " - Lite - sem cobrança\n",
    " - Standard - consultar tabela de preços\n",
    " \n",
    "**Passo 1 - Criando IBMId ou nova conta no BlueMix**:\n",
    "\n",
    "Caso ainda não possua um IBMId, crie uma em https://console.bluemix.net/ clicando em \"Criar uma conta grátis\".\n",
    "Após criar e ativar a conta por e-mail efetue o login.\n",
    "\n",
    "**Passo 2 - Criando a organização e espaço de trabalho (workspace)**:\n",
    "\n",
    "Em seguida, caso ainda não tenha uma organização ou espaço de trabalho, crie a organização utilizando seu e-mail como nome da organização e o espaço \"dev\" (desenvolvimento) que já vem informado por default.\n",
    "\n",
    "**Passo 3 - Criando o recurso Natural Language Understanding**:\n",
    "\n",
    "Após logar em https://console.bluemix.net/ clique em \"Criar recurso\" e selecione \"IA > Natural Language Understanding\"\n",
    "\n",
    "Veja na próxima tela que aparecerão os planos disponíveis. Vamos utilizar o **plano Lite** que possui as seguintes características:\n",
    "- 30.000 itens NLU por mês\n",
    "- 1 Modelo customizado\n",
    "  NOTA: um item NLU é baseado no número de unidades de dados enriquecidas e no número de recursos de enriquecimento usados. Uma unidade de dados é 10.000 caracteres ou menos. Por exemplo: a extração de entidades e impressão de 15.000 caracteres de texto é (2 unidades de dados * 2 recursos de enriquecimento) = 4 itens de NLU. Um modelo customizado se refere a um modelo de anotação desenvolvido com o Watson Knowledge Studio.\n",
    "\n",
    "Clique em \"Criar\" e aguarde a mensagem de confirmação.\n",
    "\n",
    "**Passo 4 - Criar novas credenciais do serviço**\n",
    "\n",
    "Após criar o serviço, o próximo passo é clicar no menu \"Credenciais de serviço\", clicar em \"Nova credencial\" e selecionar \n",
    "para gerar automaticamente o ID de serviço ou selecione um existente.\n",
    "\n",
    "Em seguida, guarde as credenciais, que são formadas por um JSON com o formato abaixo:\n",
    "\n",
    "```\n",
    "{\n",
    "  \"apikey\": \"XXXXXXXXXXXXXXXXXXXXXXXXX\",\n",
    "  \"iam_apikey_description\": \"Auto generated apikey during resource-key operation for Instance - crn:v1:bluemix:public:natural-language-understanding:us-south:a/XXXXXXXXXXXXXXX:XXXXXXXXXXXXXXXXX::\",\n",
    "  \"iam_apikey_name\": \"auto-generated-apikey-XXXXXXXXXXXXXXXXXXXXXXXXX\",\n",
    "  \"iam_role_crn\": \"crn:v1:bluemix:public:iam::::serviceRole:Manager\",\n",
    "  \"iam_serviceid_crn\": \"crn:v1:bluemix:public:iam-identity::a/XXXXXXXXXXXXXX::serviceid:XXXXXXXXXXXXXXXXXXXXX\",\n",
    "  \"url\": \"https://gateway.watsonplatform.net/natural-language-understanding/api\"\n",
    "}\n",
    "```\n",
    "Guarde em um local seguro.\n",
    "\n",
    "**Passo 5 - Criando o recurso Language Translator**:\n",
    "\n",
    "Repita os passos 3 e 4 para ativar o recurso para tradução do texto em português para inglês antes de submeter à API NLU para análise de Sentimento, visto que ainda está disponível apenas para o inglês."
   ]
  },
  {
   "cell_type": "markdown",
   "metadata": {},
   "source": [
    "---\n",
    "\n",
    "### Exercício 1\n",
    "\n",
    "Siga os passos acima para criar e ativar sua conta na IBM Cloud\n",
    "\n",
    "Ative os serviços Natural Language Understanding e Language Translator com o plano gratuito\n",
    "\n",
    "Salve os JSON de credenciais de ambos os serviços e salve em um arquivo\n",
    "\n",
    "---"
   ]
  },
  {
   "cell_type": "markdown",
   "metadata": {},
   "source": [
    "## Exemplos - Watson NLU\n",
    "\n",
    "Neste exemplo vamos utilizar o Watson NLU para fazera a análise de um texto simples.\n",
    "\n",
    "Vamos utilizar como referência neste exemplo os exemplos de código que estão disponíveis no site Referência para API: https://console.bluemix.net/apidocs/natural-language-understanding\n",
    "\n",
    "Veja no link acima que existem exemplos para as seguintes linguagens:\n",
    "\n",
    "- Curl (Linux)\n",
    "- Go\n",
    "- Java\n",
    "- Node\n",
    "- Python\n",
    "- Ruby\n",
    "\n",
    "Vamos utilizar o **Python**, pois estamos utilizando o Jupyter Notebook com Python 3.7.\n",
    "\n",
    "Siga os passos abaixo para executar o exemplo:"
   ]
  },
  {
   "cell_type": "markdown",
   "metadata": {},
   "source": [
    "# Exemplo 1 - Análise de Emoção com NLU"
   ]
  },
  {
   "cell_type": "code",
   "execution_count": 1,
   "metadata": {},
   "outputs": [
    {
     "name": "stdout",
     "output_type": "stream",
     "text": [
      "Requirement already up-to-date: watson-developer-cloud>=2.5.1 in /home/03662232677/anaconda3/envs/pln_ase/lib/python3.6/site-packages (2.6.0)\n",
      "Requirement already satisfied, skipping upgrade: websocket-client==0.48.0 in /home/03662232677/anaconda3/envs/pln_ase/lib/python3.6/site-packages (from watson-developer-cloud>=2.5.1) (0.48.0)\n",
      "Requirement already satisfied, skipping upgrade: python-dateutil>=2.5.3 in /home/03662232677/anaconda3/envs/pln_ase/lib/python3.6/site-packages (from watson-developer-cloud>=2.5.1) (2.7.5)\n",
      "Requirement already satisfied, skipping upgrade: requests<3.0,>=2.0 in /home/03662232677/anaconda3/envs/pln_ase/lib/python3.6/site-packages (from watson-developer-cloud>=2.5.1) (2.21.0)\n",
      "Requirement already satisfied, skipping upgrade: six in /home/03662232677/anaconda3/envs/pln_ase/lib/python3.6/site-packages (from websocket-client==0.48.0->watson-developer-cloud>=2.5.1) (1.12.0)\n",
      "Requirement already satisfied, skipping upgrade: urllib3<1.25,>=1.21.1 in /home/03662232677/anaconda3/envs/pln_ase/lib/python3.6/site-packages (from requests<3.0,>=2.0->watson-developer-cloud>=2.5.1) (1.24.1)\n",
      "Requirement already satisfied, skipping upgrade: certifi>=2017.4.17 in /home/03662232677/anaconda3/envs/pln_ase/lib/python3.6/site-packages (from requests<3.0,>=2.0->watson-developer-cloud>=2.5.1) (2018.11.29)\n",
      "Requirement already satisfied, skipping upgrade: idna<2.9,>=2.5 in /home/03662232677/anaconda3/envs/pln_ase/lib/python3.6/site-packages (from requests<3.0,>=2.0->watson-developer-cloud>=2.5.1) (2.8)\n",
      "Requirement already satisfied, skipping upgrade: chardet<3.1.0,>=3.0.2 in /home/03662232677/anaconda3/envs/pln_ase/lib/python3.6/site-packages (from requests<3.0,>=2.0->watson-developer-cloud>=2.5.1) (3.0.4)\n"
     ]
    }
   ],
   "source": [
    "# Exemplo 1 - Passo 1\n",
    "#\n",
    "# Instalando a biblioteca do Watson Developer Cloud\n",
    "#\n",
    "!pip install --upgrade \"watson-developer-cloud>=2.5.1\""
   ]
  },
  {
   "cell_type": "code",
   "execution_count": 11,
   "metadata": {},
   "outputs": [],
   "source": [
    "# Exemplo 1 - Passo 2\n",
    "#\n",
    "# Vamos setar os parâmetros para a chamada da API a partir do JSON das credenciais\n",
    "#\n",
    "NLU_VERSION = '2018-11-16' # Valor fixo\n",
    "NLU_APIKEY = 'XXXXXXXXXXXXXXXXXXXXXXXXXXXXXX'  # Conteudo da variável \"apikey\" do JSON\n",
    "NLU_URL = 'https://gateway.watsonplatform.net/natural-language-understanding/api' # Conteudo da variável \"url\" do JSON"
   ]
  },
  {
   "cell_type": "markdown",
   "metadata": {},
   "source": [
    "---\n",
    "\n",
    "### Exercício 2\n",
    "\n",
    "Modifique o código da célula acima para preencher o APIKEY e execute a célula\n",
    "\n",
    "Dica: Busque a apikey no JSON de credenciais salvo\n",
    "\n",
    "---"
   ]
  },
  {
   "cell_type": "code",
   "execution_count": 3,
   "metadata": {},
   "outputs": [],
   "source": [
    "# Exemplo 1 - Passo 3\n",
    "#\n",
    "# Criando o objeto de conexão com as credenciais do serviço\n",
    "#\n",
    "import json\n",
    "from watson_developer_cloud import NaturalLanguageUnderstandingV1\n",
    "from watson_developer_cloud.natural_language_understanding_v1 import Features, EmotionOptions\n",
    "natural_language_understanding = NaturalLanguageUnderstandingV1(\n",
    "    version=NLU_VERSION,\n",
    "    iam_apikey=NLU_APIKEY,\n",
    "    url=NLU_URL\n",
    ")"
   ]
  },
  {
   "cell_type": "markdown",
   "metadata": {},
   "source": [
    "Função **analyze()**\n",
    "\n",
    "Fonte: https://console.bluemix.net/apidocs/natural-language-understanding?language=python#analyze-text\n",
    "\n",
    "```\n",
    "analyze(self, features, text=None, html=None, url=None, clean=None, xpath=None, fallback_to_raw=None, return_analyzed_text=None, language=None, limit_text_characters=None, **kwargs)\n",
    "```\n",
    "\n",
    "Conheça os parâmetros a serem utilizados em: https://console.bluemix.net/apidocs/natural-language-understanding?language=python#emotion"
   ]
  },
  {
   "cell_type": "code",
   "execution_count": 4,
   "metadata": {},
   "outputs": [
    {
     "name": "stdout",
     "output_type": "stream",
     "text": [
      "JSON: {\n",
      "  \"usage\": {\n",
      "    \"text_units\": 1,\n",
      "    \"text_characters\": 178,\n",
      "    \"features\": 1\n",
      "  },\n",
      "  \"language\": \"en\",\n",
      "  \"emotion\": {\n",
      "    \"document\": {\n",
      "      \"emotion\": {\n",
      "        \"sadness\": 0.6165,\n",
      "        \"joy\": 0.039805,\n",
      "        \"fear\": 0.076676,\n",
      "        \"disgust\": 0.008589,\n",
      "        \"anger\": 0.081788\n",
      "      }\n",
      "    }\n",
      "  }\n",
      "}\n",
      "-------------------------------------------------------------\n",
      "Document Emotion: {\n",
      "  \"document\": {\n",
      "    \"emotion\": {\n",
      "      \"sadness\": 0.6165,\n",
      "      \"joy\": 0.039805,\n",
      "      \"fear\": 0.076676,\n",
      "      \"disgust\": 0.008589,\n",
      "      \"anger\": 0.081788\n",
      "    }\n",
      "  }\n",
      "}\n",
      "-------------------------------------------------------------\n",
      "Headers: {'X-Backside-Transport': 'OK OK', 'Content-Type': 'application/json; charset=utf-8', 'Cache-Control': 'no-cache, no-store', 'x-dp-watson-tran-id': 'gateway02-2746452125', 'content-security-policy': \"default-src 'none'\", 'Pragma': 'no-cache', 'x-content-type-options': 'nosniff', 'x-frame-options': 'DENY', 'x-xss-protection': '1; mode=block', 'x-global-transaction-id': 'ffea405d5c532ddaa3b3889d', 'X-DP-Transit-ID': 'gateway02-2746452125', 'Strict-Transport-Security': 'max-age=31536000;', 'Content-Encoding': 'gzip', 'Content-Length': '184', 'Date': 'Thu, 31 Jan 2019 17:18:18 GMT', 'Connection': 'keep-alive', 'Vary': 'Accept-Encoding'}\n",
      "-------------------------------------------------------------\n",
      "HTTP Status Code: 200\n",
      "-------------------------------------------------------------\n"
     ]
    }
   ],
   "source": [
    "# Exemplo 1 - Passo 4\n",
    "#\n",
    "# Fazendo uma chamada do NLU para análise de Emoção\n",
    "#\n",
    "import json\n",
    "from watson_developer_cloud import WatsonApiException\n",
    "try:\n",
    "    # Definindo um texto a ser analisado\n",
    "    original_text = 'Team, I know that times are tough! Product '\\\n",
    "        'sales have been disappointing for the past three '\\\n",
    "        'quarters. We have a competitive product, but we '\\\n",
    "        'need to do a better job of selling it!'\n",
    "    # Executando a chamada\n",
    "    response = natural_language_understanding.analyze(\n",
    "        text=original_text,\n",
    "        features=Features(emotion=EmotionOptions(document='true'))\n",
    "    )\n",
    "    print('JSON: {}'.format(json.dumps(response.get_result(), indent=2)))\n",
    "    print('-------------------------------------------------------------')\n",
    "    print('Document Emotion: {}'.format(json.dumps(response.get_result()['emotion'], indent=2)))\n",
    "    print('-------------------------------------------------------------')\n",
    "    print('Headers: {}'.format(response.get_headers()))\n",
    "    print('-------------------------------------------------------------')\n",
    "    print('HTTP Status Code: {}'.format(response.get_status_code()))\n",
    "    print('-------------------------------------------------------------')\n",
    "except WatsonApiException as ex:\n",
    "    # Tratamento de exceção\n",
    "    print (\"Method failed with status code \" + str(ex.code) + \": \" + ex.message)"
   ]
  },
  {
   "cell_type": "markdown",
   "metadata": {},
   "source": [
    "---\n",
    "\n",
    "### Exercício 3\n",
    "\n",
    "Copie e cole a célula acima\n",
    "\n",
    "Busque um texto em inglês na Internet ou traduza um texto em português utilizando o tradutor do google\n",
    "\n",
    "Substitua o texto da variável original_text por este e execute novamente\n",
    "\n",
    "Dica: Se o texto for grande, utilize as aspas triplas ''' para separar o texto. Ex: \n",
    "\n",
    "original_text = '''\n",
    "    exemplo de texto\n",
    "    ... \n",
    "    final do texto\n",
    "    '''\n",
    "\n",
    "---"
   ]
  },
  {
   "cell_type": "code",
   "execution_count": 10,
   "metadata": {},
   "outputs": [],
   "source": [
    "# Exemplo 1 - Passo 5\n",
    "#\n",
    "# Vamos setar os parâmetros para a chamada da API do Translator a partir do JSON das credenciais\n",
    "#\n",
    "LANGUAGE_TRANSLATOR_VERSION = '2018-05-01' # Valor fixo\n",
    "LANGUAGE_TRANSLATOR_APIKEY = 'XXXXXXXXXXXXXXXXXXXXXXXXXXXXXXX'  # Conteudo da variável \"apikey\" do JSON\n",
    "LANGUAGE_TRANSLATOR_URL = 'https://gateway.watsonplatform.net/language-translator/api' # Conteudo da variável \"url\" do JSON"
   ]
  },
  {
   "cell_type": "markdown",
   "metadata": {},
   "source": [
    "---\n",
    "\n",
    "### Exercício 4\n",
    "\n",
    "Modifique o código da célula acima para preencher o APIKEY e execute a célula\n",
    "\n",
    "Dica: Busque a apikey no JSON de credenciais salvo\n",
    "\n",
    "---"
   ]
  },
  {
   "cell_type": "code",
   "execution_count": 6,
   "metadata": {},
   "outputs": [],
   "source": [
    "# Exemplo 1 - Passo 6\n",
    "#\n",
    "# Fazendo a tradução antes do envio para a API\n",
    "#\n",
    "from watson_developer_cloud import LanguageTranslatorV3\n",
    "language_translator = LanguageTranslatorV3(\n",
    "    version=LANGUAGE_TRANSLATOR_VERSION,\n",
    "    iam_apikey=LANGUAGE_TRANSLATOR_APIKEY,\n",
    "    url=LANGUAGE_TRANSLATOR_URL\n",
    ")"
   ]
  },
  {
   "cell_type": "code",
   "execution_count": 7,
   "metadata": {},
   "outputs": [
    {
     "name": "stdout",
     "output_type": "stream",
     "text": [
      "JSON: {\n",
      "  \"translations\": [\n",
      "    {\n",
      "      \"translation\": \"The result of the first call of the Unified Selection System (Sisu) was released on Monday. To access the approved list, you must enter the program's site. Enrollment will take place between January 30 and February 4. At that time, applicants will need to collect the documents required and attend the address given by the institution in which they will study.\"\n",
      "    }\n",
      "  ],\n",
      "  \"word_count\": 61,\n",
      "  \"character_count\": 395\n",
      "}\n",
      "-------------------------------------------------------------\n",
      "Texto traduzido: The result of the first call of the Unified Selection System (Sisu) was released on Monday. To access the approved list, you must enter the program's site. Enrollment will take place between January 30 and February 4. At that time, applicants will need to collect the documents required and attend the address given by the institution in which they will study.\n",
      "-------------------------------------------------------------\n"
     ]
    }
   ],
   "source": [
    "# Exemplo 1 - Passo 7\n",
    "#\n",
    "# Fazendo uma chamada do Translator\n",
    "#\n",
    "import json\n",
    "from watson_developer_cloud import WatsonApiException\n",
    "try:\n",
    "    original_text = 'O resultado da primeira chamada do Sistema de Seleção Unificada (Sisu) '\\\n",
    "        'foi divulgado nesta segunda-feira (28). Para acessar a lista de aprovados, '\\\n",
    "        'é preciso entrar no site do programa. As matrículas ocorrerão entre 30 de '\\\n",
    "        'janeiro e 4 de fevereiro. Nesse período, os candidatos precisarão reunir '\\\n",
    "        'os documentos exigidos e comparecer ao endereço informado pela instituição de ensino em que estudarão.'\n",
    "    translation = language_translator.translate(text=original_text,model_id='pt-en').get_result()\n",
    "    print('JSON: {}'.format(json.dumps(translation, indent=2, ensure_ascii=False)))\n",
    "    print('-------------------------------------------------------------')\n",
    "    print(\"Texto traduzido: {}\".format(translation['translations'][0]['translation'], indent=2, ensure_ascii=False))\n",
    "    print('-------------------------------------------------------------')\n",
    "except WatsonApiException as ex:\n",
    "    print (\"Method failed with status code \" + str(ex.code) + \": \" + ex.message)"
   ]
  },
  {
   "cell_type": "code",
   "execution_count": 8,
   "metadata": {},
   "outputs": [
    {
     "name": "stdout",
     "output_type": "stream",
     "text": [
      "Texto traduzido: The result of the first call of the Unified Selection System (Sisu) was released on Monday. To access the approved list, you must enter the program's site. Enrollment will take place between January 30 and February 4. At that time, applicants will need to collect the documents required and attend the address given by the institution in which they will study.\n",
      "-------------------------------------------------------------\n",
      "JSON: {\n",
      "  \"usage\": {\n",
      "    \"text_units\": 1,\n",
      "    \"text_characters\": 360,\n",
      "    \"features\": 1\n",
      "  },\n",
      "  \"language\": \"en\",\n",
      "  \"emotion\": {\n",
      "    \"document\": {\n",
      "      \"emotion\": {\n",
      "        \"sadness\": 0.195874,\n",
      "        \"joy\": 0.112555,\n",
      "        \"fear\": 0.079375,\n",
      "        \"disgust\": 0.030208,\n",
      "        \"anger\": 0.056773\n",
      "      }\n",
      "    }\n",
      "  }\n",
      "}\n",
      "-------------------------------------------------------------\n",
      "Document Emotion: {\n",
      "  \"document\": {\n",
      "    \"emotion\": {\n",
      "      \"sadness\": 0.195874,\n",
      "      \"joy\": 0.112555,\n",
      "      \"fear\": 0.079375,\n",
      "      \"disgust\": 0.030208,\n",
      "      \"anger\": 0.056773\n",
      "    }\n",
      "  }\n",
      "}\n",
      "-------------------------------------------------------------\n",
      "Headers: {'X-Backside-Transport': 'OK OK', 'Content-Type': 'application/json; charset=utf-8', 'Cache-Control': 'no-cache, no-store', 'x-dp-watson-tran-id': 'gateway01-706331247', 'content-security-policy': \"default-src 'none'\", 'Pragma': 'no-cache', 'x-content-type-options': 'nosniff', 'x-frame-options': 'DENY', 'x-xss-protection': '1; mode=block', 'x-global-transaction-id': '7ecac92c5c532de72a19c26f', 'X-DP-Transit-ID': 'gateway01-706331247', 'Strict-Transport-Security': 'max-age=31536000;', 'Content-Encoding': 'gzip', 'Content-Length': '189', 'Date': 'Thu, 31 Jan 2019 17:18:31 GMT', 'Connection': 'keep-alive', 'Vary': 'Accept-Encoding'}\n",
      "-------------------------------------------------------------\n",
      "HTTP Status Code: 200\n",
      "-------------------------------------------------------------\n"
     ]
    }
   ],
   "source": [
    "# Exemplo 1 - Passo 8\n",
    "#\n",
    "# Fazendo uma chamada do Translator e depois do NLU para análise de Emoção\n",
    "#\n",
    "import json\n",
    "from watson_developer_cloud import WatsonApiException\n",
    "try:\n",
    "    original_text = 'O resultado da primeira chamada do Sistema de Seleção Unificada (Sisu) '\\\n",
    "        'foi divulgado nesta segunda-feira (28). Para acessar a lista de aprovados, '\\\n",
    "        'é preciso entrar no site do programa. As matrículas ocorrerão entre 30 de '\\\n",
    "        'janeiro e 4 de fevereiro. Nesse período, os candidatos precisarão reunir '\\\n",
    "        'os documentos exigidos e comparecer ao endereço informado pela instituição de ensino em que estudarão.'\n",
    "    translation = language_translator.translate(text=original_text,model_id='pt-en').get_result()\n",
    "    print(\"Texto traduzido: {}\".format(translation['translations'][0]['translation'], indent=2, ensure_ascii=False))\n",
    "    original_text = translation['translations'][0]['translation']\n",
    "    print('-------------------------------------------------------------')\n",
    "    # Executando a chamada\n",
    "    response = natural_language_understanding.analyze(\n",
    "        text=original_text,\n",
    "        features=Features(emotion=EmotionOptions(document='true'))\n",
    "    )\n",
    "    # Imprimindo os resultados\n",
    "    print('JSON: {}'.format(json.dumps(response.get_result(), indent=2)))\n",
    "    print('-------------------------------------------------------------')\n",
    "    print('Document Emotion: {}'.format(json.dumps(response.get_result()['emotion'], indent=2)))\n",
    "    print('-------------------------------------------------------------')\n",
    "    print('Headers: {}'.format(response.get_headers()))\n",
    "    print('-------------------------------------------------------------')\n",
    "    print('HTTP Status Code: {}'.format(response.get_status_code()))\n",
    "    print('-------------------------------------------------------------')\n",
    "except WatsonApiException as ex:\n",
    "    print (\"Method failed with status code \" + str(ex.code) + \": \" + ex.message)"
   ]
  },
  {
   "cell_type": "markdown",
   "metadata": {},
   "source": [
    "---\n",
    "\n",
    "### Exercício 5\n",
    "\n",
    "Copie e cole a célula acima\n",
    "\n",
    "Busque um texto em português na Internet e substitua na variável original_text para traduzi-lo e realizar a análise de emoção\n",
    "\n",
    "---"
   ]
  },
  {
   "cell_type": "markdown",
   "metadata": {},
   "source": [
    "---\n",
    "\n",
    "### Exercício 6\n",
    "\n",
    "Compare o resultado da análise de emoção do NLU com o do Tone Analyzer (feito no notebook anterior)\n",
    "\n",
    "Consegue notar alguma diferença?\n",
    "\n",
    "---"
   ]
  },
  {
   "cell_type": "markdown",
   "metadata": {},
   "source": [
    "# Exemplo 2 - Análise de Sentimento com NLU\n",
    "\n",
    "NOTA: Repetir os Passos 1, 2 e 3 do Exemplo 1"
   ]
  },
  {
   "cell_type": "markdown",
   "metadata": {},
   "source": [
    "Função **analyze()**\n",
    "\n",
    "Fonte: https://console.bluemix.net/apidocs/natural-language-understanding?language=python#analyze-text\n",
    "\n",
    "```\n",
    "analyze(self, features, text=None, html=None, url=None, clean=None, xpath=None, fallback_to_raw=None, return_analyzed_text=None, language=None, limit_text_characters=None, **kwargs)\n",
    "```\n",
    "Conheça os parâmetros a serem utilizados em: https://console.bluemix.net/apidocs/natural-language-understanding?language=python#sentiment"
   ]
  },
  {
   "cell_type": "code",
   "execution_count": 9,
   "metadata": {
    "scrolled": true
   },
   "outputs": [
    {
     "name": "stdout",
     "output_type": "stream",
     "text": [
      "JSON: {\n",
      "  \"usage\": {\n",
      "    \"text_units\": 1,\n",
      "    \"text_characters\": 395,\n",
      "    \"features\": 1\n",
      "  },\n",
      "  \"sentiment\": {\n",
      "    \"document\": {\n",
      "      \"score\": 0,\n",
      "      \"label\": \"neutral\"\n",
      "    }\n",
      "  },\n",
      "  \"language\": \"pt\"\n",
      "}\n",
      "-------------------------------------------------------------\n",
      "Document Sentiment: {\n",
      "  \"document\": {\n",
      "    \"score\": 0,\n",
      "    \"label\": \"neutral\"\n",
      "  }\n",
      "}\n",
      "-------------------------------------------------------------\n",
      "Headers: {'X-Backside-Transport': 'OK OK', 'Content-Type': 'application/json; charset=utf-8', 'Cache-Control': 'no-cache, no-store', 'x-dp-watson-tran-id': 'gateway02-2373787381', 'content-security-policy': \"default-src 'none'\", 'Pragma': 'no-cache', 'x-content-type-options': 'nosniff', 'x-frame-options': 'DENY', 'x-xss-protection': '1; mode=block', 'x-global-transaction-id': 'ffea405d5c532deb8d7d1ef5', 'X-DP-Transit-ID': 'gateway02-2373787381', 'Strict-Transport-Security': 'max-age=31536000;', 'Content-Encoding': 'gzip', 'Content-Length': '147', 'Date': 'Thu, 31 Jan 2019 17:18:36 GMT', 'Connection': 'keep-alive', 'Vary': 'Accept-Encoding'}\n",
      "-------------------------------------------------------------\n",
      "HTTP Status Code: 200\n",
      "-------------------------------------------------------------\n"
     ]
    }
   ],
   "source": [
    "# Exemplo 2 - Passo 4\n",
    "#\n",
    "# Realizando uma chamada da API NLU utilizando a função analyze para busca do Sentimento do Documento\n",
    "#\n",
    "import json\n",
    "from watson_developer_cloud import WatsonApiException\n",
    "from watson_developer_cloud import NaturalLanguageUnderstandingV1\n",
    "from watson_developer_cloud.natural_language_understanding_v1 import Features, SentimentOptions\n",
    "try:\n",
    "    # Definindo um texto a ser analisado\n",
    "    original_text = 'O resultado da primeira chamada do Sistema de Seleção Unificada (Sisu) '\\\n",
    "        'foi divulgado nesta segunda-feira (28). Para acessar a lista de aprovados, '\\\n",
    "        'é preciso entrar no site do programa. As matrículas ocorrerão entre 30 de '\\\n",
    "        'janeiro e 4 de fevereiro. Nesse período, os candidatos precisarão reunir '\\\n",
    "        'os documentos exigidos e comparecer ao endereço informado pela instituição de ensino em que estudarão.'\n",
    "    # Executando a chamada\n",
    "    response = natural_language_understanding.analyze(\n",
    "        text=original_text,\n",
    "        features=Features(sentiment=SentimentOptions(document='true'))\n",
    "    )\n",
    "    print('JSON: {}'.format(json.dumps(response.get_result(), indent=2)))\n",
    "    print('-------------------------------------------------------------')\n",
    "    print('Document Sentiment: {}'.format(json.dumps(response.get_result()['sentiment'], indent=2)))\n",
    "    print('-------------------------------------------------------------')\n",
    "    print('Headers: {}'.format(response.get_headers()))\n",
    "    print('-------------------------------------------------------------')\n",
    "    print('HTTP Status Code: {}'.format(response.get_status_code()))\n",
    "    print('-------------------------------------------------------------')\n",
    "except WatsonApiException as ex:\n",
    "    # Tratamento de exceção\n",
    "    print (\"Method failed with status code \" + str(ex.code) + \": \" + ex.message)"
   ]
  },
  {
   "cell_type": "markdown",
   "metadata": {},
   "source": [
    "---\n",
    "\n",
    "### Exercício 7\n",
    "\n",
    "Copie e cole a célula acima\n",
    "\n",
    "Busque um texto em português na Internet e substitua na variável original_text para traduzi-lo e realizar a análise de sentimento\n",
    "\n",
    "---"
   ]
  },
  {
   "cell_type": "markdown",
   "metadata": {},
   "source": [
    "FIM"
   ]
  }
 ],
 "metadata": {
  "kernelspec": {
   "display_name": "Python 3",
   "language": "python",
   "name": "python3"
  },
  "language_info": {
   "codemirror_mode": {
    "name": "ipython",
    "version": 3
   },
   "file_extension": ".py",
   "mimetype": "text/x-python",
   "name": "python",
   "nbconvert_exporter": "python",
   "pygments_lexer": "ipython3",
   "version": "3.6.0"
  }
 },
 "nbformat": 4,
 "nbformat_minor": 2
}
