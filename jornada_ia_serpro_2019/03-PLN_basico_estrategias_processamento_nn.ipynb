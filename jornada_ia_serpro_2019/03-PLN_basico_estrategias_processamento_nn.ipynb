{
 "cells": [
  {
   "cell_type": "markdown",
   "metadata": {},
   "source": [
    "# Processamento de Linguagem Natural (PLN) - Básico\n",
    "\n",
    "SERPRO - SUPSS - DIVISÃO DE DESENVOLVIMENTO E SUSTENTAÇÃO DE PRODUTOS COGNITIVOS"
   ]
  },
  {
   "cell_type": "markdown",
   "metadata": {},
   "source": [
    "## Parte 3 - Estratégias de Processamento utilizando Aprendizagem Profunda"
   ]
  },
  {
   "cell_type": "markdown",
   "metadata": {},
   "source": [
    "Nesta 3ª etapa do curso iremos abordar algumas estratégias de processamento utilizando Redes Neurais para Aprendizagem Profunda (Deep Learning). O objetivo então é apresentar tais redes aplicadas à tarefa de classificação de textos usando os conhecimentos prévios vistos nas Partes 1 e 2.\n",
    "\n",
    "Como vimos anteriormente, PLN pode ser utilizado para diversas atividades relacionadas ao processamento de texto e voz, entretanto iremos focar na atividade de Classificação de Texto. \n",
    "\n",
    "Conteúdo: \n",
    "\n",
    "- Deep Learning em PLN\n",
    "    - Porque Deep Learning é o estado da arte em PLN?\n",
    "        - Exemplo: Classificador de sentenças utilizando Deep Learning\n",
    "    - Utilizando Redes Neurais Convolucionais\n",
    "        - Exemplo: Classificador de documentos utilizando CNN\n",
    "    - Utilizando Redes Neurais Recorrentes\n",
    "        - Long Short-Term Memory Networks (LSTM)\n",
    "        - Exemplo: Classificador de sentenças utilizando LSTM\n",
    "\n",
    "OBS: O objetivo desse notebook não é abordar todo o assunto sobre Deep Learning e sim utilizá-lo como ferramenta (suporte) para as tarefas de PLN. Recomendamos a leitura do [Deep Learning Book](#section_book) para maior aprofundamento: \n"
   ]
  },
  {
   "cell_type": "markdown",
   "metadata": {},
   "source": [
    "## Deep Learning em PLN"
   ]
  },
  {
   "cell_type": "markdown",
   "metadata": {},
   "source": [
    "Deep Learning (Aprendizagem Profunda) é a principal técnica atualmente para construção de sistemas de PLN e também para construção de sistemas de IA. \n",
    "Deep Learning é o estado da arte para problemas de IA de modo geral e principalmente para aplicações de PLN. \n",
    "\n",
    "Através do deep learning pode-se realizar as diversas atividades de PLN. Onde o principal dado que vamos alimentar esse processo é o texto."
   ]
  },
  {
   "cell_type": "markdown",
   "metadata": {},
   "source": [
    "### Porque Deep Learning é o estado da arte em PLN?"
   ]
  },
  {
   "cell_type": "markdown",
   "metadata": {},
   "source": [
    "Em machine learning os analistas criam representações das features de entrada que alimentam os algoritmos. Assim, machine learning se concentra em otimizar parâmetros para realizar as melhores previsões.\n",
    "\n",
    "Problema: Quanto maior o vocabulário, a codificação simbólica das palavras cria um problema para machine learning: esparsidade. Então fica cada vez mais difícil representar matematicamente. \n",
    "\n",
    "Em contraste a outros métodos de machine learning, Deep Learning tenta aprender automaticamente as melhores features. Ou seja, o trabalho de preparar as features não é mais necessário, pois é possível aprender de forma automática usando deep learning. \n",
    "\n",
    "Em resumo: \n",
    "\n",
    "- Descrever as features manualmente é um processo difícil e requer muito tempo. Deep learning resolve este problema aprendendo as features automaticamente.\n",
    "- O Aprendizado automático das features é normalmente mais rápido que o mesmo processo sendo feito manualmente\n",
    "- Deep Learning é flexível e pode representar o mundo com informação visual e linguística\n",
    "- Deep Learning pode aprender de forma supervisionada ou não supervisionada\n",
    "\n",
    "Exemplos de aplicações de PLN com uso de Deep Learning:\n",
    "\n",
    "- Busca (escrita ou falada)\n",
    "- Tradução automática e assistida\n",
    "- Análise de sentimentos\n",
    "- Reconhecimento de Voz\n",
    "- Chatbots\n",
    "- Geração de texto\n",
    "- Classificação de documentos\n"
   ]
  },
  {
   "cell_type": "markdown",
   "metadata": {},
   "source": [
    "### Redes Neurais Profundas"
   ]
  },
  {
   "cell_type": "markdown",
   "metadata": {},
   "source": [
    "Assim como um cérebro usa uma rede de células interconectadas chamadas neurônios para criar um processador paralelo maciço, a rede neural usa uma rede de neurônios artificiais para resolver problemas de aprendizagem. \n",
    "\n",
    "Deep Learning (Rede Neural Profunda) é uma Rede Neural com o uso de várias camadas ocultas que permitem uma acumulação mais sofisticada de elementos simples a mais complexos. \n",
    "\n",
    "Pode-se considerar dois aspectos de complexidade da arquitetura de um modelo: __número de neurônios por camada__ e o __número de camadas__\n",
    "\n",
    "![dnn.png](images/dnn.png)\n",
    "\n",
    "Cada neurônio é a representação de uma função matemática que recebe uma entrada a processa e gera uma saída. Essa saída depende basicamente dos hiperparametros (pesos) da função, que são ajustados iterativamente em um processo de otimização.\n",
    "\n",
    "![neuronio.png](images/neuronio.png)"
   ]
  },
  {
   "cell_type": "markdown",
   "metadata": {},
   "source": [
    "### Classificador de sentenças utilizando Deep Learning\n",
    "\n",
    "Agora iremos mostrar um exemplo simples para classificar sentenças utilizando uma rede neural profunda totalmente conectada. Nos exemplos deste notebook iremos iremos utilizar o [TFLearn](#section_tflearn) para construir o nosso modelo de rede neural.\n",
    "\n",
    "TFLearn é uma biblioteca que provê uma API de alto nível para o TensorFlow. Ela facilita o uso do tensorflow, acelerando, assim, a construção dos modelos. \n",
    "\n",
    "O [TensorFlow](#section_tf) é um framework para computação numérica onde os dados fluem através do grafo. Os  dados  em  TensorFlow  são  representados  por  arrays  n-dimensionais  chamados Tensores. O grafo é compsoto de dados (Tensores) e operações matemáticas. Com o Tensorflow conseguimos criar, treinar e usar Redes Neurais.\n",
    "\n",
    "Iremos utilizar o TensorBoard para vizualidar os dados do treinamento gerados pelo Tensorflow.\n",
    " \n",
    "\n",
    "[Exemplo: Classificador de texto utilizando DNN](03.1-PLN_basico_classificador_dnn.ipynb)"
   ]
  },
  {
   "cell_type": "markdown",
   "metadata": {},
   "source": [
    "## Utilizando Redes Neurais Convolucionais (CNN)"
   ]
  },
  {
   "cell_type": "markdown",
   "metadata": {},
   "source": [
    "### Arquitetura da CNN\n",
    "\n",
    "A CNN é uma rede neural profunda com várias camadas.  Ela é composta por camadas que implementam extração de recursos (camadas convolucionais seguidas de camadas de agrupamento) e depois uma camada totalmente conectada para realizar a classificação. \n",
    "\n",
    "\n",
    "\n",
    "![arquiteturacnn.png](images/arquiteturacnn.png)\n",
    "\n",
    "\n",
    "#### Camada de Convolução\n",
    "\n",
    "No ponto de vista da matemática, a convolução é uma função linear que se baseia na multiplicação de duas matrizes. Uma operação de convolução possui 3 componentes principais: a entrada, o detector de característica também conhecido como kernel de convolução ou filtro e o mapa de característica que é o resultado da operação.\n",
    "\n",
    "O __kernel__ é uma janela deslizante que irá percorrer a matriz de entrada da esquerda para a direita e de cima para baixo de acordo com o valor do __stride__ definido, realizando a multiplicação entre a sua matriz e o contexto atual em que a janela se encontra, somando os valores da multiplicação resultante. Geralmente, os valores dos filtro são inicializados de forma randomica tendo seus valores ajustados de acordo com o treinamento da rede.\n",
    "\n",
    "O __stride__ é o tamanho do passo do kernel ao percorrer a imagem.\n",
    "\n",
    "Por exemplo, um kernel 3x3 é usado para mapear os 9 valores na matriz de entrada a 1 valor na matriz de saída. Como podemos ver na figura a baixo.\n",
    "\n",
    "![convolucao.png](images/convolucao.png)\n",
    "\n",
    "#### Camada de Pooling\n",
    "\n",
    "Os resultados das camadas de convolução são aplicados a uma camada de Poolling. Tais operações de pooling reduzem o tamanho dos mapas de características utilizando alguma função que sumariza uma sub-região. Uma comumente usada é o max pooling.\n",
    "\n",
    "Mesmo reduzindo o tamanho do mapa de característica, as características ainda são preservadas pois sabe-se que o maior valor é exatamente onde foi encontrado a maior similaridade com um detector de característica. Tal técnica reduz o número de parâmetros que vão para as próximas camadas da rede, prevenindo o overfitting por justamente propagar as características mais relevantes e otimizando o tempo de processamento. Consequentemente melhorando o desempenho do modelo.\n",
    "\n",
    "![maxpooling.png](images/maxpooling.png)\n",
    "\n",
    "#### Camada Totalmente Conectada\n",
    "\n",
    "Última etapa da CNN é composta pela camada totalmente conectada que recebe a saída da camada de convolução e prepara a saída final da rede para a classificação. \n",
    "\n",
    "Ao final aplica-se uma camada de softmax, que vai gerar as probabilidades de ser de uma determinada categoria na classificação.\n",
    "\n",
    "Podemos ter vários ciclos de camada de convolução + camada de polling, antes de passar para a camada totalmente conectada.\n",
    "\n",
    "![cnnfull.png](images/cnnfull.png)\n"
   ]
  },
  {
   "cell_type": "markdown",
   "metadata": {},
   "source": [
    "### Aplicação da CNN em PLN\n",
    "\n",
    "Apesar de mais comumente usado em visão  computacional, as CNNs também podem ser usadas em processamento de linguagem natural. Incluindo classificação de sentenças e documentos. Que é o que será feito ao longo deste notebook.\n",
    "\n",
    "No caso de visão computacional o dado de entrada, que é uma imagem (matriz numérica), é multiplicado  por uma matriz de convolução que gera um resultado e passa para a próxima camada por todo o processo de treinamento. \n",
    "\n",
    "\n",
    "Em PLN os dados de entrada  serão textos. Será realizado o pré-processamento num conjunto de palavras (tokenização etc) e então será alimentada a camada de convolução. Não se pode multiplicar a matriz de convolução pelas palavras, então temos que converter as palavras em vetores de valores numéricos (vetorização). A vetorização é um aspecto importante da extração de características no domínio de PLN. Transformar o texto em um formato vetorial é uma tarefa importante. As técnicas de vetorização tentam mapear todas as palavras possíveis para um valor específico. Esse inteiro pode ser um índice relativo posição do dicionário de palavras do corpus quando se utilizado vetores. O processo de vetorização das palavras é chamado de encoding, que é composto pelo valores núméricos relativos das cada palavras (word embeddings). \n",
    "\n",
    "Os dados de entrada, neste caso os vetores, devem possuir a mesma dimensão. Como estamos trabalhando com textos (palavras, frases ou documentos), é comum que eles possuam tamanhos diferentes. Dessa forma precisamos aplicar a técnica de _padding_: acrescentar zeros no final para que todos os vetores fique com o mesmo tamanho. \n",
    "\n",
    "Finalmente com as word embeddings computadas e com mesmo tamanho, consegue-se aplicar à rede neural e treinar um modelo para realizar a classificação, por exemplo, de sentenças.\n",
    "\n",
    "Além das word embeddings, também podemos usar matrizes de documentos binárias, de frequência absoluta, de frequência relativa ou até mesmo com o TF-ID como entrada para treinar o modelo.\n",
    "\n",
    "\n",
    "#### Estrutura da CNN (Contexto: Visão Computacional)\n",
    "![cnn_visao.png](images/cnn_visao.png)\n",
    "\n",
    "#### Estrutura da CNN (Contexto: PLN)\n",
    "![cnn_pln.png](images/cnn_pln.png)\n"
   ]
  },
  {
   "cell_type": "markdown",
   "metadata": {},
   "source": [
    "### Exemplo: Classificador de documentos utilizando CNN\n",
    "\n",
    "Segue um exemplo de classificador de sentenças utilizando Redes Convolucionais\n",
    "\n",
    "[Exemplo: Classificador de texto utilizando CNN](03.2-PLN_basico_classificador_cnn.ipynb)"
   ]
  },
  {
   "cell_type": "markdown",
   "metadata": {},
   "source": [
    "## Utilizando Redes Neurais Recorrentes (RNN) "
   ]
  },
  {
   "cell_type": "markdown",
   "metadata": {},
   "source": [
    "Os seres humanos não começam a pensar do zero a cada segundo. Ao ler este texto, você entende cada palavra com base em sua compreensão de palavras anteriores. Você não lê cada frase e começa a pensar novamente. Seus pensamentos têm persistência.\n",
    "\n",
    "As redes neurais tradicionais não podem fazer isso, e parece ser uma deficiência importante. Por exemplo, imagine que você deseja classificar o tipo de evento que está acontecendo em cada ponto de um filme. Não está claro como uma rede neural tradicional poderia usar seu raciocínio sobre eventos anteriores no filme para informar os que ocorrem mais adiante. As redes neurais recorrentes abordam esta questão. Eles são redes com loops, permitindo que a informação persista.\n",
    "\n",
    "As redes recorrentes diferem das redes feed forward porque incluem um loop de feedback, pelo qual a saída do passo n-1 é alimentada de volta à rede para afetar o resultado do passo n, e assim por diante para cada etapa subsequente. Assim, essas redes podem retroalimentar camadas anteriores ou nós subsequentes dentro de sua camada. \n",
    "\n",
    "Por exemplo, se uma rede é exposta a uma palavra letra por letra, e é solicitado a adivinhar cada letra a seguir, a primeira letra de uma palavra ajudará a determinar o que uma rede recorrente pensa que a segunda letra pode ser.\n",
    "\n",
    "Se pensarmos um pouco mais, podemos verificar que elas não são tão diferentes do que uma rede neural normal. Uma rede neural recorrente pode ser pensada como múltiplas cópias da mesma rede, cada uma passando uma mensagem para um sucessor. \n",
    "\n",
    "![rnn.png](images/rnn.png)\n",
    "\n",
    "\n",
    "Essa natureza semelhante a uma cadeia revela que as redes neurais recorrentes estão intimamente relacionadas com sequências e listas. Dessa forma, as RNNs foram construída com o objetivo de se trabalhar com sequências, como por exemplos processamento de linguagem natural, uma vez que uma frase nada mais é do que uma sequência lógica de palavras. Assim estaremos trabalhando com uma arquitetura totalmente aderente àquilo que nós precisamos em atividade de PLN.\n",
    "\n",
    "![rnn.gif](images/rnn.gif)\n"
   ]
  },
  {
   "cell_type": "markdown",
   "metadata": {},
   "source": [
    "### Long Short-Term Memory Networks (LSTM)"
   ]
  },
  {
   "cell_type": "markdown",
   "metadata": {},
   "source": [
    "LSTM é uma RNN com células de memória, ou seja, é capaz de ir armazenando durante o treinamento informações sobre o estado da sequência nos passos anteriores. \n",
    "\n",
    "Assim , as LSTMs são um tipo especial de RNN, capazes de aprender dependências de longo prazo. Elas funcionam muito bem em uma grande variedade de problemas e agora são amplamente utilizadas.\n",
    "\n",
    "As LSTMs são projetadas explicitamente para evitar o problema de dependência de longo prazo. Recordar a informação por longos períodos de tempo é praticamente seu comportamento padrão, não é algo que elas lutam para aprender! Todas as redes neurais recorrentes têm a forma de uma cadeia de módulos repetitivos de rede neural. Em RNNs padrão, este módulo de repetição terá uma estrutura muito simples com uma única camada de operação como podemos ver na figura abaixo.\n",
    "\n",
    "![rnn_inside.png](images/rnn_inside.png)\n",
    "\n",
    "As LSTMs também têm essa estrutura, mas o módulo de repetição é diferente. Em vez de ter uma única camada de rede neural, existem quatro, interagindo e realizando diversas operações. Abaixo podemos verificar o diagrama da célula de memória na LSTM.\n",
    "\n",
    "![lstm_cell.png](images/lstm_cell.png)\n",
    "\n",
    "Uma célula LSTM contém portas que controlam como as informações entram e saem dela. A porta de entrada controla quando as novas informações podem entrar na memória. A porta de esquecimento controla por quanto tempo uma informação existente fica retida. Por fim, a porta de saída controla quando as informações contidas na célula são usadas na saída da célula. A célula também contém pesos que controlam cada porta. O algoritmo de treinamento, comumente chamado de retropropagação no tempo (uma variação da retropropagação), otimiza esses pesos com base no erro resultante."
   ]
  },
  {
   "cell_type": "markdown",
   "metadata": {},
   "source": [
    "### Classificador de sentenças utilizando LSTM\n",
    "\n",
    "Neste exemplo iremos construir um modelo para classificar sentenças utilizando LSTM utilizando o Keras.\n",
    "\n",
    "[Exemplo: Classificador de texto utilizando LSTM](03.3-PLN_basico_classificador_lstm_keras.ipynb)\n",
    "\n"
   ]
  },
  {
   "cell_type": "markdown",
   "metadata": {},
   "source": [
    "## Referências"
   ]
  },
  {
   "cell_type": "markdown",
   "metadata": {},
   "source": [
    "1. <a id=\"section_book\">__Deep Learning Book__</a>: Iniciativa da Data Science Academy, com o objetivo de ajudar a difundir o Deep Learning. Material em português. (http://deeplearningbook.com.br/)\n",
    "    1. Arquiteturas de Redes Neurais( http://deeplearningbook.com.br/as-10-principais-arquiteturas-de-redes-neurais/)\n",
    "2. <a id=\"section_tflearn\">__TF Learn__</a>: é uma biblioteca que provê uma API de alto nível para o TensorFlow. Ela facilita o uso do tensorflow,  acelerando, assim, a construção dos modelos (http://tflearn.org/)\n",
    "3. <a id=\"section_tf\">__Tensorflow__</a>: é um framework para criação, treinamento e uso de Redes Neurais (https://www.tensorflow.org/)\n",
    "4. __Tensorboard__: O TensorBoard é um software de visualização de grafos que está incluído em qualquer instalação TensorFlow padrão.\n",
    "5. __Keras__: Keras é uma API de alto nível para contrução de redes neurais profundas. Rodas sobre o TensorFlow, CNTK e Theano. (https://keras.io/)\n",
    "6. __[Um guia para iniciantes sobre inteligência artificial, aprendizado de máquina e computação cognitiva]( https://www.ibm.com/developerworks/br/library/guia-iniciantes-ia-maquina-computacao-cognitiva/index.html)__"
   ]
  },
  {
   "cell_type": "markdown",
   "metadata": {},
   "source": [
    "# Fim"
   ]
  }
 ],
 "metadata": {
  "kernelspec": {
   "display_name": "Python 3",
   "language": "python",
   "name": "python3"
  },
  "language_info": {
   "codemirror_mode": {
    "name": "ipython",
    "version": 3
   },
   "file_extension": ".py",
   "mimetype": "text/x-python",
   "name": "python",
   "nbconvert_exporter": "python",
   "pygments_lexer": "ipython3",
   "version": "3.6.8"
  },
  "toc": {
   "base_numbering": 1,
   "nav_menu": {},
   "number_sections": true,
   "sideBar": true,
   "skip_h1_title": false,
   "title_cell": "Table of Contents",
   "title_sidebar": "Contents",
   "toc_cell": false,
   "toc_position": {},
   "toc_section_display": true,
   "toc_window_display": true
  }
 },
 "nbformat": 4,
 "nbformat_minor": 2
}
