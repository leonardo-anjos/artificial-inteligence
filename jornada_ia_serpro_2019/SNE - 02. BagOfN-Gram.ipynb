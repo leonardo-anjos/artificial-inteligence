{
 "cells": [
  {
   "cell_type": "markdown",
   "metadata": {},
   "source": [
    "# Estratégia de utilização de Bag Of N-gram com Rede Neural"
   ]
  },
  {
   "cell_type": "markdown",
   "metadata": {},
   "source": [
    "## Imports e definição de funções"
   ]
  },
  {
   "cell_type": "code",
   "execution_count": 1,
   "metadata": {},
   "outputs": [
    {
     "name": "stdout",
     "output_type": "stream",
     "text": [
      "Importações e criação de funções realizadas com sucesso\n"
     ]
    }
   ],
   "source": [
    "import os\n",
    "import shutil\n",
    "import time\n",
    "import pickle\n",
    "import pandas as pd\n",
    "import statistics as stat\n",
    "import numpy as np\n",
    "import tensorflow as tf\n",
    "import tflearn\n",
    "from tflearn.layers.core import input_data, dropout, fully_connected\n",
    "from tflearn.layers.conv import conv_1d, global_max_pool\n",
    "from tflearn.layers.merge_ops import merge\n",
    "from tflearn.layers.estimator import regression\n",
    "from nltk.corpus import stopwords\n",
    "from sklearn.model_selection import train_test_split\n",
    "from sklearn.feature_extraction.text import CountVectorizer\n",
    "from sklearn.feature_extraction.text import TfidfVectorizer\n",
    "# Função para salvar uma lista em um binário\n",
    "def save_list_to_file(list_to_save,file_name):\n",
    "    with open(file_name, 'wb') as f:\n",
    "        pickle.dump(list_to_save, f)\n",
    "# Função para carregar uma lista \n",
    "def load_list_from_file(file_name):\n",
    "    with open(file_name, 'rb') as f:\n",
    "        return pickle.load(f)     \n",
    "# Criando a classe de parada antecipada\n",
    "class EarlyStoppingCallback(tflearn.callbacks.Callback):\n",
    "    def __init__(self, val_epoch_thresh, val_acc_thresh):\n",
    "        self.val_epoch_thresh = val_epoch_thresh\n",
    "        self.val_acc_thresh = val_acc_thresh\n",
    "    def on_epoch_end(self, training_state):\n",
    "        print(\"Epoch \", training_state.epoch, \" with Accuracy \", training_state.acc_value)\n",
    "        if training_state.epoch >= self.val_epoch_thresh and training_state.acc_value >= self.val_acc_thresh:\n",
    "            raise StopIteration\n",
    "    def on_train_end(self, training_state):\n",
    "        print(\"Successfully left training! Final model accuracy:\", training_state.acc_value)\n",
    "print ('Importações e criação de funções realizadas com sucesso')"
   ]
  },
  {
   "cell_type": "markdown",
   "metadata": {},
   "source": [
    "## Restaurando o Pickle contendo o DataFrame trabalhado"
   ]
  },
  {
   "cell_type": "code",
   "execution_count": 2,
   "metadata": {},
   "outputs": [
    {
     "data": {
      "text/html": [
       "<div>\n",
       "<style scoped>\n",
       "    .dataframe tbody tr th:only-of-type {\n",
       "        vertical-align: middle;\n",
       "    }\n",
       "\n",
       "    .dataframe tbody tr th {\n",
       "        vertical-align: top;\n",
       "    }\n",
       "\n",
       "    .dataframe thead th {\n",
       "        text-align: right;\n",
       "    }\n",
       "</style>\n",
       "<table border=\"1\" class=\"dataframe\">\n",
       "  <thead>\n",
       "    <tr style=\"text-align: right;\">\n",
       "      <th></th>\n",
       "      <th>sistema</th>\n",
       "      <th>classificacao</th>\n",
       "      <th>grupo</th>\n",
       "      <th>descricao_demanda</th>\n",
       "      <th>descricao</th>\n",
       "      <th>solucao</th>\n",
       "      <th>solucao_usuario</th>\n",
       "      <th>descricao_demanda2</th>\n",
       "      <th>solucao_usuario2</th>\n",
       "    </tr>\n",
       "  </thead>\n",
       "  <tbody>\n",
       "    <tr>\n",
       "      <th>0</th>\n",
       "      <td>SNE</td>\n",
       "      <td>SNE</td>\n",
       "      <td>ATCDMGSNE</td>\n",
       "      <td>Solicitação de serviço: 2018SS/0000401273 Qual...</td>\n",
       "      <td>SNE</td>\n",
       "      <td></td>\n",
       "      <td>Prezado Senhor André, O Sistema de Notificação...</td>\n",
       "      <td>solicitaca serv proced agor</td>\n",
       "      <td>prez senh andr sistem notificaca eletron sne d...</td>\n",
       "    </tr>\n",
       "    <tr>\n",
       "      <th>1</th>\n",
       "      <td>SNE</td>\n",
       "      <td>SNE</td>\n",
       "      <td>UNCEDFSNE</td>\n",
       "      <td>Usuário informa que recebeu umas notificações ...</td>\n",
       "      <td>SNE</td>\n",
       "      <td></td>\n",
       "      <td>Sr. Usuário,\\n\\nO órgão autuador faz algumas v...</td>\n",
       "      <td>usuari inform receb uma notificaco aplic veicu...</td>\n",
       "      <td>usuari orga autu faz algum verificaco sab real...</td>\n",
       "    </tr>\n",
       "    <tr>\n",
       "      <th>2</th>\n",
       "      <td>SNE</td>\n",
       "      <td>SNE</td>\n",
       "      <td>CAGSBRSNE</td>\n",
       "      <td>Usuário informa que emitiu um boleto que vence...</td>\n",
       "      <td>SNE</td>\n",
       "      <td></td>\n",
       "      <td>Prezado Angelo,\\n\\nQual a data de vencimento d...</td>\n",
       "      <td>usuari inform emit bolet venc praz acab vend c...</td>\n",
       "      <td>prez angel dat venc infraca comunidad atend sne</td>\n",
       "    </tr>\n",
       "    <tr>\n",
       "      <th>3</th>\n",
       "      <td>SNE</td>\n",
       "      <td>SNE</td>\n",
       "      <td>CAGSBRSNE</td>\n",
       "      <td>Usuário informa que esta tentando cadastrar um...</td>\n",
       "      <td>SNE</td>\n",
       "      <td></td>\n",
       "      <td>Prezado Tiago,\\nInformamos que o código de seg...</td>\n",
       "      <td>usuari inform tent cadastr veicul sne inser co...</td>\n",
       "      <td>prez tiag inform codig seguranc crvdut encontr...</td>\n",
       "    </tr>\n",
       "    <tr>\n",
       "      <th>4</th>\n",
       "      <td>SNE</td>\n",
       "      <td>SNE</td>\n",
       "      <td>CAGSBRSNE</td>\n",
       "      <td>Assunto: MULTA PAGA VOLTANDO A CONTAR NO SISTE...</td>\n",
       "      <td>SNE</td>\n",
       "      <td>2016SOL/00400157</td>\n",
       "      <td>Prezado Jeferson,\\n\\n\\nFavor nos enviar PLACA ...</td>\n",
       "      <td>assunt mult pag volt cont sistem sne jeferson ...</td>\n",
       "      <td>prez jeferson favor envi plac ren poss verific...</td>\n",
       "    </tr>\n",
       "  </tbody>\n",
       "</table>\n",
       "</div>"
      ],
      "text/plain": [
       "  sistema classificacao      grupo  \\\n",
       "0     SNE           SNE  ATCDMGSNE   \n",
       "1     SNE           SNE  UNCEDFSNE   \n",
       "2     SNE           SNE  CAGSBRSNE   \n",
       "3     SNE           SNE  CAGSBRSNE   \n",
       "4     SNE           SNE  CAGSBRSNE   \n",
       "\n",
       "                                   descricao_demanda descricao  \\\n",
       "0  Solicitação de serviço: 2018SS/0000401273 Qual...       SNE   \n",
       "1  Usuário informa que recebeu umas notificações ...       SNE   \n",
       "2  Usuário informa que emitiu um boleto que vence...       SNE   \n",
       "3  Usuário informa que esta tentando cadastrar um...       SNE   \n",
       "4  Assunto: MULTA PAGA VOLTANDO A CONTAR NO SISTE...       SNE   \n",
       "\n",
       "            solucao                                    solucao_usuario  \\\n",
       "0                    Prezado Senhor André, O Sistema de Notificação...   \n",
       "1                    Sr. Usuário,\\n\\nO órgão autuador faz algumas v...   \n",
       "2                    Prezado Angelo,\\n\\nQual a data de vencimento d...   \n",
       "3                    Prezado Tiago,\\nInformamos que o código de seg...   \n",
       "4  2016SOL/00400157  Prezado Jeferson,\\n\\n\\nFavor nos enviar PLACA ...   \n",
       "\n",
       "                                  descricao_demanda2  \\\n",
       "0                        solicitaca serv proced agor   \n",
       "1  usuari inform receb uma notificaco aplic veicu...   \n",
       "2  usuari inform emit bolet venc praz acab vend c...   \n",
       "3  usuari inform tent cadastr veicul sne inser co...   \n",
       "4  assunt mult pag volt cont sistem sne jeferson ...   \n",
       "\n",
       "                                    solucao_usuario2  \n",
       "0  prez senh andr sistem notificaca eletron sne d...  \n",
       "1  usuari orga autu faz algum verificaco sab real...  \n",
       "2    prez angel dat venc infraca comunidad atend sne  \n",
       "3  prez tiag inform codig seguranc crvdut encontr...  \n",
       "4  prez jeferson favor envi plac ren poss verific...  "
      ]
     },
     "execution_count": 2,
     "metadata": {},
     "output_type": "execute_result"
    }
   ],
   "source": [
    "# Restaurando o DataFrame gerado no Passo 1 - Preparação\n",
    "FILENAME = 'dataframe.pickle'\n",
    "df = pd.read_pickle(FILENAME)\n",
    "df.head()"
   ]
  },
  {
   "cell_type": "code",
   "execution_count": 3,
   "metadata": {},
   "outputs": [
    {
     "data": {
      "text/html": [
       "<div>\n",
       "<style scoped>\n",
       "    .dataframe tbody tr th:only-of-type {\n",
       "        vertical-align: middle;\n",
       "    }\n",
       "\n",
       "    .dataframe tbody tr th {\n",
       "        vertical-align: top;\n",
       "    }\n",
       "\n",
       "    .dataframe thead th {\n",
       "        text-align: right;\n",
       "    }\n",
       "</style>\n",
       "<table border=\"1\" class=\"dataframe\">\n",
       "  <thead>\n",
       "    <tr style=\"text-align: right;\">\n",
       "      <th></th>\n",
       "      <th>sistema</th>\n",
       "      <th>classificacao</th>\n",
       "      <th>grupo</th>\n",
       "      <th>descricao_demanda</th>\n",
       "      <th>descricao</th>\n",
       "      <th>solucao</th>\n",
       "      <th>solucao_usuario</th>\n",
       "      <th>descricao_demanda2</th>\n",
       "      <th>solucao_usuario2</th>\n",
       "    </tr>\n",
       "  </thead>\n",
       "  <tbody>\n",
       "    <tr>\n",
       "      <th>count</th>\n",
       "      <td>6291</td>\n",
       "      <td>6291</td>\n",
       "      <td>6291</td>\n",
       "      <td>6291</td>\n",
       "      <td>6291</td>\n",
       "      <td>6291</td>\n",
       "      <td>6291</td>\n",
       "      <td>6291</td>\n",
       "      <td>6291</td>\n",
       "    </tr>\n",
       "    <tr>\n",
       "      <th>unique</th>\n",
       "      <td>7</td>\n",
       "      <td>19</td>\n",
       "      <td>20</td>\n",
       "      <td>5914</td>\n",
       "      <td>20</td>\n",
       "      <td>62</td>\n",
       "      <td>2056</td>\n",
       "      <td>5598</td>\n",
       "      <td>1944</td>\n",
       "    </tr>\n",
       "    <tr>\n",
       "      <th>top</th>\n",
       "      <td>SOLICITAÇÃO</td>\n",
       "      <td>DÚVIDA - INFORMAÇÃO</td>\n",
       "      <td>ATGSBRTERC</td>\n",
       "      <td>Usuário pergunta como pode se CADASTRAR no SIS...</td>\n",
       "      <td>SNE,SOLICITAÇÃO,DÚVIDA - INFORMAÇÃO</td>\n",
       "      <td></td>\n",
       "      <td>A consulta dos órgãos que fizeram adesão ao SN...</td>\n",
       "      <td>usuari pergunt pod cadastr sistem</td>\n",
       "      <td>prezado sra realiz cadastr soluca sra pod baix...</td>\n",
       "    </tr>\n",
       "    <tr>\n",
       "      <th>freq</th>\n",
       "      <td>1789</td>\n",
       "      <td>2041</td>\n",
       "      <td>2432</td>\n",
       "      <td>35</td>\n",
       "      <td>1789</td>\n",
       "      <td>1521</td>\n",
       "      <td>311</td>\n",
       "      <td>35</td>\n",
       "      <td>353</td>\n",
       "    </tr>\n",
       "  </tbody>\n",
       "</table>\n",
       "</div>"
      ],
      "text/plain": [
       "            sistema        classificacao       grupo  \\\n",
       "count          6291                 6291        6291   \n",
       "unique            7                   19          20   \n",
       "top     SOLICITAÇÃO  DÚVIDA - INFORMAÇÃO  ATGSBRTERC   \n",
       "freq           1789                 2041        2432   \n",
       "\n",
       "                                        descricao_demanda  \\\n",
       "count                                                6291   \n",
       "unique                                               5914   \n",
       "top     Usuário pergunta como pode se CADASTRAR no SIS...   \n",
       "freq                                                   35   \n",
       "\n",
       "                                  descricao solucao  \\\n",
       "count                                  6291    6291   \n",
       "unique                                   20      62   \n",
       "top     SNE,SOLICITAÇÃO,DÚVIDA - INFORMAÇÃO           \n",
       "freq                                   1789    1521   \n",
       "\n",
       "                                          solucao_usuario  \\\n",
       "count                                                6291   \n",
       "unique                                               2056   \n",
       "top     A consulta dos órgãos que fizeram adesão ao SN...   \n",
       "freq                                                  311   \n",
       "\n",
       "                       descricao_demanda2  \\\n",
       "count                                6291   \n",
       "unique                               5598   \n",
       "top     usuari pergunt pod cadastr sistem   \n",
       "freq                                   35   \n",
       "\n",
       "                                         solucao_usuario2  \n",
       "count                                                6291  \n",
       "unique                                               1944  \n",
       "top     prezado sra realiz cadastr soluca sra pod baix...  \n",
       "freq                                                  353  "
      ]
     },
     "execution_count": 3,
     "metadata": {},
     "output_type": "execute_result"
    }
   ],
   "source": [
    "# Descrevendo os dados do DataFrame\n",
    "df.describe()"
   ]
  },
  {
   "cell_type": "code",
   "execution_count": 4,
   "metadata": {},
   "outputs": [
    {
     "data": {
      "text/html": [
       "<div>\n",
       "<style scoped>\n",
       "    .dataframe tbody tr th:only-of-type {\n",
       "        vertical-align: middle;\n",
       "    }\n",
       "\n",
       "    .dataframe tbody tr th {\n",
       "        vertical-align: top;\n",
       "    }\n",
       "\n",
       "    .dataframe thead th {\n",
       "        text-align: right;\n",
       "    }\n",
       "</style>\n",
       "<table border=\"1\" class=\"dataframe\">\n",
       "  <thead>\n",
       "    <tr style=\"text-align: right;\">\n",
       "      <th></th>\n",
       "      <th>classificacao</th>\n",
       "      <th>grupo</th>\n",
       "      <th>descricao_demanda</th>\n",
       "      <th>descricao</th>\n",
       "      <th>solucao</th>\n",
       "      <th>solucao_usuario</th>\n",
       "      <th>descricao_demanda2</th>\n",
       "      <th>solucao_usuario2</th>\n",
       "    </tr>\n",
       "    <tr>\n",
       "      <th>sistema</th>\n",
       "      <th></th>\n",
       "      <th></th>\n",
       "      <th></th>\n",
       "      <th></th>\n",
       "      <th></th>\n",
       "      <th></th>\n",
       "      <th></th>\n",
       "      <th></th>\n",
       "    </tr>\n",
       "  </thead>\n",
       "  <tbody>\n",
       "    <tr>\n",
       "      <th>ACESSO</th>\n",
       "      <td>420</td>\n",
       "      <td>420</td>\n",
       "      <td>420</td>\n",
       "      <td>420</td>\n",
       "      <td>420</td>\n",
       "      <td>420</td>\n",
       "      <td>420</td>\n",
       "      <td>420</td>\n",
       "    </tr>\n",
       "    <tr>\n",
       "      <th>APLICAÇÃO</th>\n",
       "      <td>1438</td>\n",
       "      <td>1438</td>\n",
       "      <td>1438</td>\n",
       "      <td>1438</td>\n",
       "      <td>1438</td>\n",
       "      <td>1438</td>\n",
       "      <td>1438</td>\n",
       "      <td>1438</td>\n",
       "    </tr>\n",
       "    <tr>\n",
       "      <th>CADASTRO</th>\n",
       "      <td>1060</td>\n",
       "      <td>1060</td>\n",
       "      <td>1060</td>\n",
       "      <td>1060</td>\n",
       "      <td>1060</td>\n",
       "      <td>1060</td>\n",
       "      <td>1060</td>\n",
       "      <td>1060</td>\n",
       "    </tr>\n",
       "    <tr>\n",
       "      <th>SNE</th>\n",
       "      <td>572</td>\n",
       "      <td>572</td>\n",
       "      <td>572</td>\n",
       "      <td>572</td>\n",
       "      <td>572</td>\n",
       "      <td>572</td>\n",
       "      <td>572</td>\n",
       "      <td>572</td>\n",
       "    </tr>\n",
       "    <tr>\n",
       "      <th>SNE - ATENDIMENTO LOJAS</th>\n",
       "      <td>915</td>\n",
       "      <td>915</td>\n",
       "      <td>915</td>\n",
       "      <td>915</td>\n",
       "      <td>915</td>\n",
       "      <td>915</td>\n",
       "      <td>915</td>\n",
       "      <td>915</td>\n",
       "    </tr>\n",
       "    <tr>\n",
       "      <th>SNE - MSG ERRO: OCORREU UM ERRO INESPERADO</th>\n",
       "      <td>97</td>\n",
       "      <td>97</td>\n",
       "      <td>97</td>\n",
       "      <td>97</td>\n",
       "      <td>97</td>\n",
       "      <td>97</td>\n",
       "      <td>97</td>\n",
       "      <td>97</td>\n",
       "    </tr>\n",
       "    <tr>\n",
       "      <th>SOLICITAÇÃO</th>\n",
       "      <td>1789</td>\n",
       "      <td>1789</td>\n",
       "      <td>1789</td>\n",
       "      <td>1789</td>\n",
       "      <td>1789</td>\n",
       "      <td>1789</td>\n",
       "      <td>1789</td>\n",
       "      <td>1789</td>\n",
       "    </tr>\n",
       "  </tbody>\n",
       "</table>\n",
       "</div>"
      ],
      "text/plain": [
       "                                            classificacao  grupo  \\\n",
       "sistema                                                            \n",
       "ACESSO                                                420    420   \n",
       "APLICAÇÃO                                            1438   1438   \n",
       "CADASTRO                                             1060   1060   \n",
       "SNE                                                   572    572   \n",
       "SNE - ATENDIMENTO LOJAS                               915    915   \n",
       "SNE - MSG ERRO: OCORREU UM ERRO INESPERADO             97     97   \n",
       "SOLICITAÇÃO                                          1789   1789   \n",
       "\n",
       "                                            descricao_demanda  descricao  \\\n",
       "sistema                                                                    \n",
       "ACESSO                                                    420        420   \n",
       "APLICAÇÃO                                                1438       1438   \n",
       "CADASTRO                                                 1060       1060   \n",
       "SNE                                                       572        572   \n",
       "SNE - ATENDIMENTO LOJAS                                   915        915   \n",
       "SNE - MSG ERRO: OCORREU UM ERRO INESPERADO                 97         97   \n",
       "SOLICITAÇÃO                                              1789       1789   \n",
       "\n",
       "                                            solucao  solucao_usuario  \\\n",
       "sistema                                                                \n",
       "ACESSO                                          420              420   \n",
       "APLICAÇÃO                                      1438             1438   \n",
       "CADASTRO                                       1060             1060   \n",
       "SNE                                             572              572   \n",
       "SNE - ATENDIMENTO LOJAS                         915              915   \n",
       "SNE - MSG ERRO: OCORREU UM ERRO INESPERADO       97               97   \n",
       "SOLICITAÇÃO                                    1789             1789   \n",
       "\n",
       "                                            descricao_demanda2  \\\n",
       "sistema                                                          \n",
       "ACESSO                                                     420   \n",
       "APLICAÇÃO                                                 1438   \n",
       "CADASTRO                                                  1060   \n",
       "SNE                                                        572   \n",
       "SNE - ATENDIMENTO LOJAS                                    915   \n",
       "SNE - MSG ERRO: OCORREU UM ERRO INESPERADO                  97   \n",
       "SOLICITAÇÃO                                               1789   \n",
       "\n",
       "                                            solucao_usuario2  \n",
       "sistema                                                       \n",
       "ACESSO                                                   420  \n",
       "APLICAÇÃO                                               1438  \n",
       "CADASTRO                                                1060  \n",
       "SNE                                                      572  \n",
       "SNE - ATENDIMENTO LOJAS                                  915  \n",
       "SNE - MSG ERRO: OCORREU UM ERRO INESPERADO                97  \n",
       "SOLICITAÇÃO                                             1789  "
      ]
     },
     "execution_count": 4,
     "metadata": {},
     "output_type": "execute_result"
    }
   ],
   "source": [
    "df.groupby('sistema').count()"
   ]
  },
  {
   "cell_type": "markdown",
   "metadata": {},
   "source": [
    "## Criação do Bag Of N-gram para X"
   ]
  },
  {
   "cell_type": "code",
   "execution_count": 5,
   "metadata": {},
   "outputs": [
    {
     "name": "stdout",
     "output_type": "stream",
     "text": [
      "Criação de X em 0.20 segundos\n",
      "Formato de X_vet:  (6291, 15000)\n"
     ]
    }
   ],
   "source": [
    "# Se essa linha der erro, reinicie o Jupyter com o comando abaixo:\n",
    "#\n",
    "#  jupyter notebook --NotebookApp.iopub_data_rate_limit=1.0e10\n",
    "#\n",
    "start_time = time.time()\n",
    "MAX_FEATURES=15000\n",
    "# Cria um ngram vectorizer\n",
    "# Vamos criar o BOW dos 2 documentos\n",
    "# Usamos n_gram = 2\n",
    "vectorizer = CountVectorizer(ngram_range=(2,2), max_features=MAX_FEATURES)\n",
    "#vectorizer = TfidfVectorizer(ngram_range=(2,2),stop_words=stopwords.words('portuguese'),strip_accents='unicode',max_features=MAX_FEATURES)\n",
    "# Contabilizamos as combinações de caracteres nas palavras\n",
    "X_vet = vectorizer.fit_transform(df['descricao_demanda2'])\n",
    "print('Criação de X em %.2f segundos' % (time.time() - start_time))\n",
    "print('Formato de X_vet: ',X_vet.shape)"
   ]
  },
  {
   "cell_type": "code",
   "execution_count": 6,
   "metadata": {},
   "outputs": [
    {
     "name": "stdout",
     "output_type": "stream",
     "text": [
      "------------\n",
      "proced agor                    Score: 1\n",
      "solicitaca serv                Score: 1\n"
     ]
    }
   ],
   "source": [
    "# Imprimindo os valores para cada token no primeiro documento\n",
    "for doc in X_vet:\n",
    "    print('------------')\n",
    "    scores = zip(vectorizer.get_feature_names(),\n",
    "                 np.asarray(doc.sum(axis=0)).ravel())\n",
    "    sorted_scores = sorted(scores, key=lambda x: x[1], reverse=True)\n",
    "    for item in sorted_scores:\n",
    "        if item[1] > 0.0:\n",
    "            print (\"{0:30} Score: {1}\".format(item[0], item[1]))\n",
    "    break"
   ]
  },
  {
   "cell_type": "markdown",
   "metadata": {},
   "source": [
    "## Criação do One Hot Encoding para X"
   ]
  },
  {
   "cell_type": "code",
   "execution_count": 7,
   "metadata": {},
   "outputs": [
    {
     "name": "stdout",
     "output_type": "stream",
     "text": [
      "Tamanho do vocabulário: 15000\n",
      "Imprimindo os 100 primeiros:\n",
      "['aba veicul', 'abaix aind', 'abaix atend', 'abaix cadastr', 'abaix cpf', 'abaix descrev', 'abaix detalh', 'abaix encaminh', 'abaix err', 'abaix inform', 'abaix instal', 'abaix mens', 'abaix nao', 'abaix plac', 'abaix por', 'abaix precis', 'abaix resolv', 'abaix ter', 'abaix verific', 'abat val', 'abert acion', 'abert app', 'abert aqu', 'abert atend', 'abert cham', 'abert const', 'abert fac', 'abert pag', 'abert por', 'abert precis', 'abert sit', 'abert solicitaca', 'ablic agor', 'about review', 'abr acion', 'abr aplic', 'abr apo', 'abr app', 'abr cham', 'abr clic', 'abr faz', 'abr formulari', 'abr gmt', 'abr mao', 'abr nov', 'abr ocorrenc', 'abr outr', 'abr pagin', 'abr ped', 'abr protocol', 'abr solicitaca', 'abr tod', 'abrac vand', 'abril nao', 'abrirabr nov', 'absolut nad', 'absurd respond', 'acab baix', 'acab cadastr', 'acab envi', 'acab ger', 'acab nao', 'acab receb', 'acab ver', 'aceit adesa', 'aceit banc', 'aceit cadastr', 'aceit carr', 'aceit codig', 'aceit comet', 'aceit correspondet', 'aceit dad', 'aceit dar', 'aceit descont', 'aceit indicaca', 'aceit mult', 'aceit nenhum', 'aceit numer', 'aceit pag', 'aceit receb', 'aceit ren', 'aceit retorn', 'aceit senh', 'aceit term', 'acert comig', 'aces luz', 'acess abr', 'acess algum', 'acess antig', 'acess apen', 'acess aplic', 'acess apo', 'acess app', 'acess apresent', 'acess atuaco', 'acess aut', 'acess bolet', 'acess cadastr', 'acess celul', 'acess certific']\n",
      "--------------------------------------------------------------------------------------------------------------\n",
      "Formato de X (6291, 15000):\n",
      "Imprimindo One-Hot Encoding dos 5 primeiros:\n",
      "[[0. 0. 0. ... 0. 0. 0.]\n",
      " [0. 0. 0. ... 0. 0. 0.]\n",
      " [0. 0. 0. ... 0. 0. 0.]\n",
      " [0. 0. 0. ... 0. 0. 0.]\n",
      " [0. 0. 0. ... 0. 0. 0.]]\n",
      "Criação de Y em 0.38 segundos\n"
     ]
    }
   ],
   "source": [
    "# Preparando dados de X\n",
    "start_time = time.time()\n",
    "X_vocabulary = vectorizer.get_feature_names()\n",
    "NUM_FEATURES = len(X_vocabulary)\n",
    "print('Tamanho do vocabulário: {}'.format(len(X_vocabulary)))\n",
    "print('Imprimindo os 100 primeiros:')\n",
    "print(X_vocabulary[:100])\n",
    "print('--------------------------------------------------------------------------------------------------------------')\n",
    "X_values = X_vet.toarray().astype(float)\n",
    "print('Formato de X {}:'.format(X_values.shape))\n",
    "print('Imprimindo One-Hot Encoding dos 5 primeiros:')\n",
    "print(X_values[:5])\n",
    "print('Criação de Y em %.2f segundos' % (time.time() - start_time))"
   ]
  },
  {
   "cell_type": "markdown",
   "metadata": {},
   "source": [
    "## Criação do One Hot Encoding para Y"
   ]
  },
  {
   "cell_type": "code",
   "execution_count": 8,
   "metadata": {},
   "outputs": [
    {
     "name": "stdout",
     "output_type": "stream",
     "text": [
      "Quantidade de targets: 6291\n",
      "Imprimindo os targets:\n",
      "Targets:  Index(['ACESSO', 'APLICAÇÃO', 'CADASTRO', 'SNE', 'SNE - ATENDIMENTO LOJAS',\n",
      "       'SNE - MSG ERRO: OCORREU UM ERRO INESPERADO', 'SOLICITAÇÃO'],\n",
      "      dtype='object')\n",
      "--------------------------------------------------------------------------------------------------------------\n",
      "Formato de Y (6291, 7):\n",
      "Imprimindo One-Hot Encoding do primeiro Y:\n",
      "[0 0 0 1 0 0 0]\n"
     ]
    }
   ],
   "source": [
    "# Preparando dados de Y\n",
    "#Vetorização dos labels (Target)\n",
    "Y_labels = pd.get_dummies(df['sistema'])\n",
    "print('Quantidade de targets: {}'.format(len(Y_labels)))\n",
    "print('Imprimindo os targets:')\n",
    "print('Targets: ',Y_labels.columns)\n",
    "print('--------------------------------------------------------------------------------------------------------------')\n",
    "Y_values = pd.get_dummies(df['sistema']).values\n",
    "print('Formato de Y {}:'.format(Y_values.shape))\n",
    "print('Imprimindo One-Hot Encoding do primeiro Y:')\n",
    "print(Y_values[0])"
   ]
  },
  {
   "cell_type": "markdown",
   "metadata": {},
   "source": [
    "## Separação dos dados de treinamento e teste"
   ]
  },
  {
   "cell_type": "code",
   "execution_count": 9,
   "metadata": {},
   "outputs": [
    {
     "name": "stdout",
     "output_type": "stream",
     "text": [
      " Train data: X_train  (4214, 15000) , y_train (4214, 7)\n",
      " Test data: X_test  (2077, 15000) , y_test  (2077, 7)\n",
      "Exemplo de X_train:  [0. 0. 0. 0. 0. 0. 0. 0. 0. 0. 0. 0. 0. 0. 0. 0. 0. 0. 0. 0. 0. 0. 0. 0.\n",
      " 0. 0. 0. 0. 0. 0. 0. 0. 0. 0. 0. 0. 0. 0. 0. 0. 0. 0. 0. 0. 0. 0. 0. 0.\n",
      " 0. 0. 0. 0. 0. 0. 0. 0. 0. 0. 0. 0. 0. 0. 0. 0. 0. 0. 0. 0. 0. 0. 0. 0.\n",
      " 0. 0. 0. 0. 0. 0. 0. 0. 0. 0. 0. 0. 0. 0. 0. 0. 0. 0. 0. 0. 0. 0. 0. 0.\n",
      " 0. 0. 0. 0.] ...\n",
      "Exemplo de y_train:  [0 0 1 0 0 0 0]\n"
     ]
    }
   ],
   "source": [
    "# Separando dados de treinamento e testes\n",
    "if 'X_values' in locals():\n",
    "    X_train, X_test, y_train, y_test = train_test_split(X_values, Y_values, test_size=0.33, random_state=42)\n",
    "    print(' Train data: X_train ',X_train.shape,', y_train',y_train.shape)\n",
    "    print(' Test data: X_test ',X_test.shape,', y_test ',y_test.shape)\n",
    "    print('Exemplo de X_train: ',X_train[0][:100],'...')\n",
    "    print('Exemplo de y_train: ',y_train[0])\n",
    "    del X_values, Y_values"
   ]
  },
  {
   "cell_type": "markdown",
   "metadata": {},
   "source": [
    "## Criação de uma Rede Neural DNN para ser treinada"
   ]
  },
  {
   "cell_type": "code",
   "execution_count": 10,
   "metadata": {},
   "outputs": [
    {
     "name": "stdout",
     "output_type": "stream",
     "text": [
      "Entrada no formato (indice:valor)\n",
      "1596 : 1.0\n",
      "1661 : 1.0\n",
      "2380 : 1.0\n",
      "2827 : 1.0\n",
      "3341 : 1.0\n",
      "6582 : 1.0\n",
      "10001 : 1.0\n",
      "10676 : 1.0\n",
      "11468 : 1.0\n",
      "Resultado esperado:  [0 0 1 0 0 0 0]\n"
     ]
    }
   ],
   "source": [
    "# Imprimindo primeiro dado de treino\n",
    "print('Entrada no formato (indice:valor)')\n",
    "i = 0\n",
    "for x in X_train[0]:\n",
    "    if x != 0.0:\n",
    "        print (i,\":\",x)\n",
    "    i += 1\n",
    "print('Resultado esperado: ',y_train[0])   "
   ]
  },
  {
   "cell_type": "code",
   "execution_count": 11,
   "metadata": {},
   "outputs": [
    {
     "name": "stdout",
     "output_type": "stream",
     "text": [
      "Parâmetros setados\n"
     ]
    }
   ],
   "source": [
    "DATASET = 'sne'\n",
    "REDE = 'net_3'\n",
    "BATCH = 32\n",
    "EPOCHS = 100\n",
    "MIN_EPOCHS = 5\n",
    "MIN_ACCURACY = 0.9999\n",
    "print ('Parâmetros setados')"
   ]
  },
  {
   "cell_type": "code",
   "execution_count": 12,
   "metadata": {},
   "outputs": [
    {
     "name": "stdout",
     "output_type": "stream",
     "text": [
      "WARNING:tensorflow:From /home/03662232677/anaconda3/envs/pucomex/lib/python3.6/site-packages/tflearn/objectives.py:66: calling reduce_sum (from tensorflow.python.ops.math_ops) with keep_dims is deprecated and will be removed in a future version.\n",
      "Instructions for updating:\n",
      "keep_dims is deprecated, use keepdims instead\n",
      "Criada a net_3\n"
     ]
    }
   ],
   "source": [
    "# Reset do grafo\n",
    "tf.reset_default_graph()\n",
    "# Cria a rede neural\n",
    "net = None\n",
    "if REDE == 'net1':\n",
    "    net = tflearn.input_data(shape=[None, len(X_train[0])])\n",
    "    net = tflearn.fully_connected(net, 8)\n",
    "    net = tflearn.fully_connected(net, 8)\n",
    "    net = tflearn.fully_connected(net, len(y_train[0]), activation='softmax')\n",
    "    net = tflearn.regression(net)\n",
    "elif REDE == 'net_1':\n",
    "    net = tflearn.input_data(shape=[None, len(X_train[0])])\n",
    "    net = tflearn.fully_connected(net, 8)\n",
    "    net = tflearn.dropout(net, 0.8)\n",
    "    net = tflearn.fully_connected(net, 8)\n",
    "    net = tflearn.dropout(net, 0.8)\n",
    "    net = tflearn.fully_connected(net, len(y_train[0]), activation='softmax')\n",
    "    net = tflearn.regression(net)\n",
    "elif REDE == 'net_2':\n",
    "    net = tflearn.input_data(shape=[None, len(X_train[0])])\n",
    "    net = tflearn.fully_connected(net, 32)\n",
    "    net = tflearn.dropout(net, 0.8)\n",
    "    net = tflearn.fully_connected(net, 16)\n",
    "    net = tflearn.dropout(net, 0.8)\n",
    "    net = tflearn.fully_connected(net, len(y_train[0]), activation='softmax')\n",
    "    net = tflearn.regression(net)\n",
    "elif REDE == 'net_3':\n",
    "    net = tflearn.input_data(shape=[None, len(X_train[0])])\n",
    "    net = tflearn.fully_connected(net, 32)\n",
    "    net = tflearn.dropout(net, 0.5)\n",
    "    net = tflearn.fully_connected(net, 16)\n",
    "    net = tflearn.dropout(net, 0.5)\n",
    "    net = tflearn.fully_connected(net, len(y_train[0]), activation='softmax')\n",
    "    net = tflearn.regression(net)\n",
    "elif REDE == 'net_3_1':\n",
    "    net = tflearn.input_data(shape=[None, len(X_train[0])])\n",
    "    net = tflearn.fully_connected(net, 32)\n",
    "    net = tflearn.dropout(net, 0.4)\n",
    "    net = tflearn.fully_connected(net, 16)\n",
    "    net = tflearn.dropout(net, 0.4)\n",
    "    net = tflearn.fully_connected(net, len(y_train[0]), activation='softmax')\n",
    "    net = tflearn.regression(net)\n",
    "elif REDE == 'net_3_2':\n",
    "    net = tflearn.input_data(shape=[None, len(X_train[0])])\n",
    "    net = tflearn.fully_connected(net, 32)\n",
    "    net = tflearn.dropout(net, 0.3)\n",
    "    net = tflearn.fully_connected(net, 16)\n",
    "    net = tflearn.dropout(net, 0.3)\n",
    "    net = tflearn.fully_connected(net, len(y_train[0]), activation='softmax')\n",
    "    net = tflearn.regression(net)\n",
    "elif REDE == 'net_4':\n",
    "    net = tflearn.input_data(shape=[None, len(X_train[0])])\n",
    "    net = tflearn.fully_connected(net, 16)\n",
    "    net = tflearn.dropout(net, 0.5)\n",
    "    net = tflearn.fully_connected(net, 8)\n",
    "    net = tflearn.dropout(net, 0.5)\n",
    "    net = tflearn.fully_connected(net, len(y_train[0]), activation='softmax')\n",
    "    net = tflearn.regression(net)\n",
    "elif REDE == 'net_5':\n",
    "    net = tflearn.input_data(shape=[None, len(X_train[0])])\n",
    "    net = tflearn.fully_connected(net, 32)\n",
    "    net = tflearn.dropout(net, 0.5)\n",
    "    net = tflearn.fully_connected(net, 16)\n",
    "    net = tflearn.dropout(net, 0.5)\n",
    "    net = tflearn.fully_connected(net, 8)\n",
    "    net = tflearn.dropout(net, 0.5)\n",
    "    net = tflearn.fully_connected(net, len(y_train[0]), activation='softmax')\n",
    "    net = tflearn.regression(net)\n",
    "elif REDE == 'net_6':\n",
    "    net = tflearn.input_data(shape=[None, len(X_train[0])])\n",
    "    net = tflearn.fully_connected(net, 128)\n",
    "    net = tflearn.dropout(net, 0.5)\n",
    "    net = tflearn.fully_connected(net, 64)\n",
    "    net = tflearn.dropout(net, 0.5)\n",
    "    net = tflearn.fully_connected(net, 32)\n",
    "    net = tflearn.dropout(net, 0.5)\n",
    "    net = tflearn.fully_connected(net, len(y_train[0]), activation='softmax')\n",
    "    net = tflearn.regression(net)\n",
    "elif REDE == 'net_cnn_1':\n",
    "    net = input_data(shape=[None, X_train.shape[1]], name='input')\n",
    "    net = tflearn.embedding(net, input_dim=NUM_FEATURES, output_dim=128)\n",
    "    branch1 = conv_1d(net, 32, 3, padding='same', activation='relu', regularizer=\"L2\")\n",
    "    branch2 = conv_1d(net, 32, 5, padding='same', activation='relu', regularizer=\"L2\")\n",
    "    net = merge([branch1, branch2], mode='concat', axis=1)\n",
    "    net = tf.expand_dims(net, 2)\n",
    "    net = global_max_pool(net)\n",
    "    net = dropout(net, 0.5)\n",
    "    net = fully_connected(net, len(y_train[0]), activation='softmax')\n",
    "    net = regression(net, optimizer='adam', learning_rate=0.001,\n",
    "                     loss='categorical_crossentropy', name='target')\n",
    "elif REDE == 'net_8':\n",
    "    net = input_data(shape=[None, X_train.shape[1]], name='input')\n",
    "    net = tflearn.embedding(net, input_dim=NUM_FEATURES, output_dim=128)\n",
    "    branch1 = conv_1d(net, 128, 3, padding='same', activation='relu', regularizer=\"L2\")\n",
    "    branch2 = conv_1d(net, 128, 5, padding='same', activation='relu', regularizer=\"L2\")\n",
    "    branch3 = conv_1d(net, 128, 7, padding='same', activation='relu', regularizer=\"L2\")\n",
    "    net = merge([branch1, branch2, branch3], mode='concat', axis=1)\n",
    "    net = tf.expand_dims(net, 2)\n",
    "    net = global_max_pool(net)\n",
    "    net = dropout(net, 0.5)\n",
    "    net = fully_connected(net, len(y_train[0]), activation='softmax')\n",
    "    net = regression(net, optimizer='adam', learning_rate=0.001,\n",
    "                     loss='categorical_crossentropy', name='target')\n",
    "elif REDE == 'net2':\n",
    "    net = tflearn.input_data(shape=[None, len(X_train[0])])\n",
    "    net = tflearn.fully_connected(net, 16)\n",
    "    net = tflearn.fully_connected(net, 16)\n",
    "    net = tflearn.fully_connected(net, len(y_train[0]), activation='softmax')\n",
    "    net = tflearn.regression(net)\n",
    "elif REDE == 'net3':\n",
    "    net = tflearn.input_data(shape=[None, len(X_train[0])])\n",
    "    net = tflearn.fully_connected(net, 8)\n",
    "    net = tflearn.fully_connected(net, 8)\n",
    "    net = tflearn.fully_connected(net, 8)\n",
    "    net = tflearn.fully_connected(net, len(y_train[0]), activation='softmax')\n",
    "    net = tflearn.regression(net)\n",
    "elif REDE == 'net4':\n",
    "    net = tflearn.input_data(shape=[None, len(X_train[0])])\n",
    "    net = tflearn.fully_connected(net, 100)\n",
    "    net = tflearn.fully_connected(net, 50)\n",
    "    net = tflearn.fully_connected(net, 25)\n",
    "    net = tflearn.fully_connected(net, len(y_train[0]), activation='softmax')\n",
    "    net = tflearn.regression(net)\n",
    "elif REDE == 'net5':\n",
    "    net = tflearn.input_data(shape=[None, len(X_train[0])])\n",
    "    net = tflearn.embedding(net, input_dim=len(X_train[0]), output_dim=len(y_train[0]))\n",
    "    net = tflearn.lstm(net, 8)\n",
    "    net = tflearn.dropout(net, 0.8)\n",
    "    net = tflearn.fully_connected(net, len(y_train[0]), activation='softmax')\n",
    "    net = tflearn.regression(net, optimizer='adam',loss='binary_crossentropy')\n",
    "elif REDE == 'net6':\n",
    "    net = tflearn.input_data(shape=[None, len(X_train[0])])\n",
    "    net = tflearn.embedding(net, input_dim=len(X_train[0]), output_dim=len(y_train[0]))\n",
    "    net = tflearn.lstm(net, 8)\n",
    "    net = tflearn.dropout(net, 0.8)\n",
    "    net = tflearn.fully_connected(net, len(y_train[0]), activation='softmax')\n",
    "    net = tflearn.regression(net, optimizer='adam',loss='binary_crossentropy')\n",
    "# Define o modelo e configura o tensorboard\n",
    "print ('Criada a',REDE)\n",
    "model = tflearn.DNN(net, tensorboard_verbose=3, tensorboard_dir='/home/03662232677/c4/PUCOMEX/tflearn_logs_'+str(DATASET)+'/'+str(DATASET)+'_n'+str(NUM_FEATURES)+'_st'+str(EPOCHS)+'_'+str(REDE)+'_b'+str(BATCH))"
   ]
  },
  {
   "cell_type": "markdown",
   "metadata": {},
   "source": [
    "## Treinamento da Rede Neural com os dados de treino"
   ]
  },
  {
   "cell_type": "code",
   "execution_count": 13,
   "metadata": {},
   "outputs": [
    {
     "name": "stdout",
     "output_type": "stream",
     "text": [
      "Training Step: 13199  | total loss: \u001b[1m\u001b[32m0.14938\u001b[0m\u001b[0m | time: 2.803s\n",
      "| Adam | epoch: 100 | loss: 0.14938 - acc: 0.9539 -- iter: 4192/4214\n",
      "Training Step: 13200  | total loss: \u001b[1m\u001b[32m0.14029\u001b[0m\u001b[0m | time: 2.825s\n",
      "| Adam | epoch: 100 | loss: 0.14029 - acc: 0.9585 -- iter: 4214/4214\n",
      "--\n",
      "Epoch  100  with Accuracy  0.9585309028625488\n",
      "Successfully left training! Final model accuracy: 0.9585309028625488\n",
      "Finalização do treinamento em 293.00 segundos\n"
     ]
    }
   ],
   "source": [
    "# Iniciando o treinamento da rede neural. Acompanhe o treinamento pelo TensorBoard utilizando o comando abaixo via terminal:\n",
    "#\n",
    "# tensorboard --logdir tflearn_logs_...\n",
    "# \n",
    "start_time = time.time()\n",
    "early_stopping_cb = EarlyStoppingCallback(val_epoch_thresh=MIN_EPOCHS,val_acc_thresh=MIN_ACCURACY)\n",
    "# Treinamento\n",
    "try:\n",
    "    model.fit(X_train, y_train, n_epoch = EPOCHS, batch_size = BATCH, show_metric = True, callbacks=early_stopping_cb)\n",
    "except StopIteration:\n",
    "    print(\"Caught callback exception. Returning control to user program.\")\n",
    "print('Finalização do treinamento em %.2f segundos' % (time.time() - start_time))"
   ]
  },
  {
   "cell_type": "markdown",
   "metadata": {},
   "source": [
    "## Calculando a acurácia"
   ]
  },
  {
   "cell_type": "code",
   "execution_count": 14,
   "metadata": {},
   "outputs": [],
   "source": [
    "# Salvando o modelo\n",
    "#model.save('/home/03662232677/c4/PUCOMEX/model/'+str(DATASET)+'_n'+str(NUM_FEATURES)+'_st'+str(EPOCHS)+'_'+str(REDE)+'_b'+str(BATCH)+'.tflearn')\n",
    "# Restaurando o modelo\n",
    "#model.load('/home/03662232677/c4/PUCOMEX/model/'+str(DATASET)+'_n'+str(NUM_FEATURES)+'_st'+str(EPOCHS)+'_'+str(REDE)+'_b'+str(BATCH)+'.tflearn')"
   ]
  },
  {
   "cell_type": "code",
   "execution_count": 15,
   "metadata": {},
   "outputs": [
    {
     "name": "stdout",
     "output_type": "stream",
     "text": [
      "Acurácia para os dados de teste: 0.5642753970783723\n",
      "Acurácia para os dados de treinamento: [0.9575225445519254]\n",
      "Acurácia para todos os dados: 0.7608989708151488\n"
     ]
    }
   ],
   "source": [
    "# Testando o modelo com a base de testes\n",
    "total = 0\n",
    "acertos = 0\n",
    "score1 = model.evaluate(X_test, y_test)\n",
    "print('Acurácia para os dados de teste: {}'.format(score1[0]))\n",
    "score2 = model.evaluate(X_train, y_train)\n",
    "print('Acurácia para os dados de treinamento: {}'.format(score2))\n",
    "print('Acurácia para todos os dados: {}'.format(stat.mean(score1+score2)))"
   ]
  },
  {
   "cell_type": "markdown",
   "metadata": {},
   "source": [
    "## Realizando um teste de um documento"
   ]
  },
  {
   "cell_type": "code",
   "execution_count": 88,
   "metadata": {},
   "outputs": [
    {
     "name": "stdout",
     "output_type": "stream",
     "text": [
      "[0. 0. 1. 0. 0.]\n",
      "[0 0 0 1 0]\n"
     ]
    }
   ],
   "source": [
    "N = 3\n",
    "#print(X_test[N])\n",
    "print(np.rint(model.predict([X_test[N]]))[0])\n",
    "print(y_test[N])"
   ]
  },
  {
   "cell_type": "markdown",
   "metadata": {},
   "source": [
    "## Salvando um modelo treinado"
   ]
  },
  {
   "cell_type": "code",
   "execution_count": 89,
   "metadata": {},
   "outputs": [
    {
     "name": "stdout",
     "output_type": "stream",
     "text": [
      "INFO:tensorflow:/home/03662232677/c4/PUCOMEX/model_pucomex_n15000_st100_net_3_b32/model_pucomex_n15000_st100_net_3_b32.tflearn is not in all_model_checkpoint_paths. Manually adding it.\n"
     ]
    }
   ],
   "source": [
    "# Save model and pickle files\n",
    "model_name = 'model_'+str(DATASET)+'_n'+str(MAX_FEATURES)+'_st'+str(EPOCHS)+'_'+str(REDE)+'_b'+str(BATCH)\n",
    "directory = '/home/03662232677/c4/PUCOMEX/'+model_name\n",
    "if not os.path.exists(directory):\n",
    "    os.mkdir(directory) \n",
    "model.save(directory+'/'+model_name+'.tflearn')\n",
    "save_list_to_file(X_vocabulary,directory+'/X_vocabulary.pickle')\n",
    "#save_list_to_file(X_values,directory+'/X_values.pickle')\n",
    "#save_list_to_file(Y_labels,directory+'/Y_labels.pickle')\n",
    "#save_list_to_file(Y_values,directory+'/Y_values.pickle')\n",
    "save_list_to_file(X_train,directory+'/X_train.pickle')\n",
    "save_list_to_file(X_test,directory+'/X_test.pickle')\n",
    "save_list_to_file(y_train,directory+'/y_train.pickle')\n",
    "save_list_to_file(y_test,directory+'/y_test.pickle')"
   ]
  },
  {
   "cell_type": "markdown",
   "metadata": {},
   "source": [
    "FIM"
   ]
  },
  {
   "cell_type": "code",
   "execution_count": 90,
   "metadata": {},
   "outputs": [
    {
     "data": {
      "text/html": [
       "<div>\n",
       "<style scoped>\n",
       "    .dataframe tbody tr th:only-of-type {\n",
       "        vertical-align: middle;\n",
       "    }\n",
       "\n",
       "    .dataframe tbody tr th {\n",
       "        vertical-align: top;\n",
       "    }\n",
       "\n",
       "    .dataframe thead th {\n",
       "        text-align: right;\n",
       "    }\n",
       "</style>\n",
       "<table border=\"1\" class=\"dataframe\">\n",
       "  <thead>\n",
       "    <tr style=\"text-align: right;\">\n",
       "      <th></th>\n",
       "      <th>sistema</th>\n",
       "      <th>grupo</th>\n",
       "      <th>descricao_demanda</th>\n",
       "      <th>descricao</th>\n",
       "      <th>solucao</th>\n",
       "      <th>solucao_usuario</th>\n",
       "      <th>solucao_script</th>\n",
       "      <th>descricao_demanda2</th>\n",
       "      <th>solucao_usuario2</th>\n",
       "      <th>solucao_script2</th>\n",
       "      <th>classificacao_grupo</th>\n",
       "    </tr>\n",
       "    <tr>\n",
       "      <th>classificacao</th>\n",
       "      <th></th>\n",
       "      <th></th>\n",
       "      <th></th>\n",
       "      <th></th>\n",
       "      <th></th>\n",
       "      <th></th>\n",
       "      <th></th>\n",
       "      <th></th>\n",
       "      <th></th>\n",
       "      <th></th>\n",
       "      <th></th>\n",
       "    </tr>\n",
       "  </thead>\n",
       "  <tbody>\n",
       "    <tr>\n",
       "      <th>SITUAÇÃO NÃO PREVISTA</th>\n",
       "      <td>4071</td>\n",
       "      <td>4071</td>\n",
       "      <td>4071</td>\n",
       "      <td>4071</td>\n",
       "      <td>4071</td>\n",
       "      <td>4071</td>\n",
       "      <td>4071</td>\n",
       "      <td>4071</td>\n",
       "      <td>4071</td>\n",
       "      <td>4071</td>\n",
       "      <td>4071</td>\n",
       "    </tr>\n",
       "  </tbody>\n",
       "</table>\n",
       "</div>"
      ],
      "text/plain": [
       "                       sistema  grupo  descricao_demanda  descricao  solucao  \\\n",
       "classificacao                                                                  \n",
       "SITUAÇÃO NÃO PREVISTA     4071   4071               4071       4071     4071   \n",
       "\n",
       "                       solucao_usuario  solucao_script  descricao_demanda2  \\\n",
       "classificacao                                                                \n",
       "SITUAÇÃO NÃO PREVISTA             4071            4071                4071   \n",
       "\n",
       "                       solucao_usuario2  solucao_script2  classificacao_grupo  \n",
       "classificacao                                                                  \n",
       "SITUAÇÃO NÃO PREVISTA              4071             4071                 4071  "
      ]
     },
     "execution_count": 90,
     "metadata": {},
     "output_type": "execute_result"
    }
   ],
   "source": [
    "# Restaurando o DataFrame2\n",
    "FILENAME2 = 'dataframe2.pickle'\n",
    "df2 = pd.read_pickle(FILENAME2)\n",
    "df2.groupby('classificacao').count()"
   ]
  },
  {
   "cell_type": "code",
   "execution_count": 91,
   "metadata": {},
   "outputs": [
    {
     "data": {
      "text/html": [
       "<div>\n",
       "<style scoped>\n",
       "    .dataframe tbody tr th:only-of-type {\n",
       "        vertical-align: middle;\n",
       "    }\n",
       "\n",
       "    .dataframe tbody tr th {\n",
       "        vertical-align: top;\n",
       "    }\n",
       "\n",
       "    .dataframe thead th {\n",
       "        text-align: right;\n",
       "    }\n",
       "</style>\n",
       "<table border=\"1\" class=\"dataframe\">\n",
       "  <thead>\n",
       "    <tr style=\"text-align: right;\">\n",
       "      <th></th>\n",
       "      <th>sistema</th>\n",
       "      <th>classificacao</th>\n",
       "      <th>grupo</th>\n",
       "      <th>descricao_demanda</th>\n",
       "      <th>descricao_demanda2</th>\n",
       "    </tr>\n",
       "  </thead>\n",
       "  <tbody>\n",
       "    <tr>\n",
       "      <th>10</th>\n",
       "      <td>DUEX - DECLARAÇÃO ÚNICA DE EXPORTAÇÃO</td>\n",
       "      <td>SITUAÇÃO NÃO PREVISTA</td>\n",
       "      <td>CAGSBRPUCOMEX</td>\n",
       "      <td>Bom dia, ao tentarmos retificar a Due no porta...</td>\n",
       "      <td>bom dia tent retific due port receb err inform...</td>\n",
       "    </tr>\n",
       "    <tr>\n",
       "      <th>12</th>\n",
       "      <td>DUEX - DECLARAÇÃO ÚNICA DE EXPORTAÇÃO</td>\n",
       "      <td>SITUAÇÃO NÃO PREVISTA</td>\n",
       "      <td>CAGSBRPUCOMEX</td>\n",
       "      <td>Sem acesso a criação de DU-E, opção de Embarqu...</td>\n",
       "      <td>acess criaca due opca embarqu antecip vinculac...</td>\n",
       "    </tr>\n",
       "    <tr>\n",
       "      <th>23</th>\n",
       "      <td>DUEX - DECLARAÇÃO ÚNICA DE EXPORTAÇÃO</td>\n",
       "      <td>SITUAÇÃO NÃO PREVISTA</td>\n",
       "      <td>CAGSBRPUCOMEX</td>\n",
       "      <td>Bom dia, Conforme contato telefônico no qual f...</td>\n",
       "      <td>bom dia conform contat telefon ger protocol se...</td>\n",
       "    </tr>\n",
       "    <tr>\n",
       "      <th>26</th>\n",
       "      <td>DUEX - DECLARAÇÃO ÚNICA DE EXPORTAÇÃO</td>\n",
       "      <td>SITUAÇÃO NÃO PREVISTA</td>\n",
       "      <td>CAGSBRPUCOMEX</td>\n",
       "      <td>O sistema está passando por uma indisponibilid...</td>\n",
       "      <td>sistem pass indisponibil momentane possi agu a...</td>\n",
       "    </tr>\n",
       "    <tr>\n",
       "      <th>27</th>\n",
       "      <td>DUEX - DECLARAÇÃO ÚNICA DE EXPORTAÇÃO</td>\n",
       "      <td>SITUAÇÃO NÃO PREVISTA</td>\n",
       "      <td>CAGSBRNOVOEX</td>\n",
       "      <td>Erro ao consultar DUE</td>\n",
       "      <td>err consult due</td>\n",
       "    </tr>\n",
       "  </tbody>\n",
       "</table>\n",
       "</div>"
      ],
      "text/plain": [
       "                                  sistema          classificacao  \\\n",
       "10  DUEX - DECLARAÇÃO ÚNICA DE EXPORTAÇÃO  SITUAÇÃO NÃO PREVISTA   \n",
       "12  DUEX - DECLARAÇÃO ÚNICA DE EXPORTAÇÃO  SITUAÇÃO NÃO PREVISTA   \n",
       "23  DUEX - DECLARAÇÃO ÚNICA DE EXPORTAÇÃO  SITUAÇÃO NÃO PREVISTA   \n",
       "26  DUEX - DECLARAÇÃO ÚNICA DE EXPORTAÇÃO  SITUAÇÃO NÃO PREVISTA   \n",
       "27  DUEX - DECLARAÇÃO ÚNICA DE EXPORTAÇÃO  SITUAÇÃO NÃO PREVISTA   \n",
       "\n",
       "            grupo                                  descricao_demanda  \\\n",
       "10  CAGSBRPUCOMEX  Bom dia, ao tentarmos retificar a Due no porta...   \n",
       "12  CAGSBRPUCOMEX  Sem acesso a criação de DU-E, opção de Embarqu...   \n",
       "23  CAGSBRPUCOMEX  Bom dia, Conforme contato telefônico no qual f...   \n",
       "26  CAGSBRPUCOMEX  O sistema está passando por uma indisponibilid...   \n",
       "27   CAGSBRNOVOEX                              Erro ao consultar DUE   \n",
       "\n",
       "                                   descricao_demanda2  \n",
       "10  bom dia tent retific due port receb err inform...  \n",
       "12  acess criaca due opca embarqu antecip vinculac...  \n",
       "23  bom dia conform contat telefon ger protocol se...  \n",
       "26  sistem pass indisponibil momentane possi agu a...  \n",
       "27                                    err consult due  "
      ]
     },
     "execution_count": 91,
     "metadata": {},
     "output_type": "execute_result"
    }
   ],
   "source": [
    "# Selecionando apenas as colunas desejadas\n",
    "df2 = df2[['sistema','classificacao','grupo','descricao_demanda','descricao_demanda2']]\n",
    "df2.head()"
   ]
  },
  {
   "cell_type": "code",
   "execution_count": 92,
   "metadata": {},
   "outputs": [
    {
     "name": "stdout",
     "output_type": "stream",
     "text": [
      "Index(['AMBIENTE', 'ANÁLISE URC', 'APLICAÇÃO', 'DÚVIDA OU INFORMAÇÕES',\n",
      "       'REGRA DE NEGÓCIO'],\n",
      "      dtype='object')\n"
     ]
    }
   ],
   "source": [
    "# Imprime as colunas de labels\n",
    "print(Y_labels.columns)"
   ]
  },
  {
   "cell_type": "code",
   "execution_count": 93,
   "metadata": {},
   "outputs": [
    {
     "name": "stdout",
     "output_type": "stream",
     "text": [
      "Index(['sistema', 'classificacao', 'grupo', 'descricao_demanda',\n",
      "       'descricao_demanda2', 'resultado'],\n",
      "      dtype='object')\n",
      "1000 itens processados\n",
      "2000 itens processados\n",
      "3000 itens processados\n",
      "4000 itens processados\n",
      "total de 4071 itens processados\n"
     ]
    }
   ],
   "source": [
    "# Cria uma nova coluna com valores vazios\n",
    "df2['resultado'] = ''\n",
    "# Para cada valor, faz a previsão e grava o resultado na coluna\n",
    "c = 0\n",
    "print(df2.columns)\n",
    "for row_index, row in df2.iterrows():\n",
    "    #print(row_index)\n",
    "    # Texto pré-processado a ser utilizado\n",
    "    t = row['descricao_demanda2']\n",
    "    #print(t)\n",
    "    # Vetorização do texto\n",
    "    x = vectorizer.transform([t])\n",
    "    # Transformando para array\n",
    "    array = x.toarray()\n",
    "    #for xi in array[0]:\n",
    "    #    if xi > 0:\n",
    "    #        print (xi)\n",
    "    # Fazendo a previsão\n",
    "    result = model.predict(array)\n",
    "    # Buscando o label correspondente\n",
    "    label = Y_labels.columns[np.argmax(result)]\n",
    "    #print (label)\n",
    "    # Salvando na coluna de resultado\n",
    "    df2.at[row_index,'resultado'] = label\n",
    "    c += 1\n",
    "    if c % 1000 == 0:\n",
    "        print(c,'itens processados')\n",
    "print('total de',c,'itens processados')"
   ]
  },
  {
   "cell_type": "code",
   "execution_count": 94,
   "metadata": {},
   "outputs": [
    {
     "data": {
      "text/html": [
       "<div>\n",
       "<style scoped>\n",
       "    .dataframe tbody tr th:only-of-type {\n",
       "        vertical-align: middle;\n",
       "    }\n",
       "\n",
       "    .dataframe tbody tr th {\n",
       "        vertical-align: top;\n",
       "    }\n",
       "\n",
       "    .dataframe thead th {\n",
       "        text-align: right;\n",
       "    }\n",
       "</style>\n",
       "<table border=\"1\" class=\"dataframe\">\n",
       "  <thead>\n",
       "    <tr style=\"text-align: right;\">\n",
       "      <th></th>\n",
       "      <th>sistema</th>\n",
       "      <th>classificacao</th>\n",
       "      <th>grupo</th>\n",
       "      <th>descricao_demanda</th>\n",
       "      <th>descricao_demanda2</th>\n",
       "      <th>resultado</th>\n",
       "    </tr>\n",
       "  </thead>\n",
       "  <tbody>\n",
       "    <tr>\n",
       "      <th>10</th>\n",
       "      <td>DUEX - DECLARAÇÃO ÚNICA DE EXPORTAÇÃO</td>\n",
       "      <td>SITUAÇÃO NÃO PREVISTA</td>\n",
       "      <td>CAGSBRPUCOMEX</td>\n",
       "      <td>Bom dia, ao tentarmos retificar a Due no porta...</td>\n",
       "      <td>bom dia tent retific due port receb err inform...</td>\n",
       "      <td>DÚVIDA OU INFORMAÇÕES</td>\n",
       "    </tr>\n",
       "    <tr>\n",
       "      <th>12</th>\n",
       "      <td>DUEX - DECLARAÇÃO ÚNICA DE EXPORTAÇÃO</td>\n",
       "      <td>SITUAÇÃO NÃO PREVISTA</td>\n",
       "      <td>CAGSBRPUCOMEX</td>\n",
       "      <td>Sem acesso a criação de DU-E, opção de Embarqu...</td>\n",
       "      <td>acess criaca due opca embarqu antecip vinculac...</td>\n",
       "      <td>DÚVIDA OU INFORMAÇÕES</td>\n",
       "    </tr>\n",
       "    <tr>\n",
       "      <th>23</th>\n",
       "      <td>DUEX - DECLARAÇÃO ÚNICA DE EXPORTAÇÃO</td>\n",
       "      <td>SITUAÇÃO NÃO PREVISTA</td>\n",
       "      <td>CAGSBRPUCOMEX</td>\n",
       "      <td>Bom dia, Conforme contato telefônico no qual f...</td>\n",
       "      <td>bom dia conform contat telefon ger protocol se...</td>\n",
       "      <td>APLICAÇÃO</td>\n",
       "    </tr>\n",
       "    <tr>\n",
       "      <th>26</th>\n",
       "      <td>DUEX - DECLARAÇÃO ÚNICA DE EXPORTAÇÃO</td>\n",
       "      <td>SITUAÇÃO NÃO PREVISTA</td>\n",
       "      <td>CAGSBRPUCOMEX</td>\n",
       "      <td>O sistema está passando por uma indisponibilid...</td>\n",
       "      <td>sistem pass indisponibil momentane possi agu a...</td>\n",
       "      <td>AMBIENTE</td>\n",
       "    </tr>\n",
       "    <tr>\n",
       "      <th>27</th>\n",
       "      <td>DUEX - DECLARAÇÃO ÚNICA DE EXPORTAÇÃO</td>\n",
       "      <td>SITUAÇÃO NÃO PREVISTA</td>\n",
       "      <td>CAGSBRNOVOEX</td>\n",
       "      <td>Erro ao consultar DUE</td>\n",
       "      <td>err consult due</td>\n",
       "      <td>DÚVIDA OU INFORMAÇÕES</td>\n",
       "    </tr>\n",
       "  </tbody>\n",
       "</table>\n",
       "</div>"
      ],
      "text/plain": [
       "                                  sistema          classificacao  \\\n",
       "10  DUEX - DECLARAÇÃO ÚNICA DE EXPORTAÇÃO  SITUAÇÃO NÃO PREVISTA   \n",
       "12  DUEX - DECLARAÇÃO ÚNICA DE EXPORTAÇÃO  SITUAÇÃO NÃO PREVISTA   \n",
       "23  DUEX - DECLARAÇÃO ÚNICA DE EXPORTAÇÃO  SITUAÇÃO NÃO PREVISTA   \n",
       "26  DUEX - DECLARAÇÃO ÚNICA DE EXPORTAÇÃO  SITUAÇÃO NÃO PREVISTA   \n",
       "27  DUEX - DECLARAÇÃO ÚNICA DE EXPORTAÇÃO  SITUAÇÃO NÃO PREVISTA   \n",
       "\n",
       "            grupo                                  descricao_demanda  \\\n",
       "10  CAGSBRPUCOMEX  Bom dia, ao tentarmos retificar a Due no porta...   \n",
       "12  CAGSBRPUCOMEX  Sem acesso a criação de DU-E, opção de Embarqu...   \n",
       "23  CAGSBRPUCOMEX  Bom dia, Conforme contato telefônico no qual f...   \n",
       "26  CAGSBRPUCOMEX  O sistema está passando por uma indisponibilid...   \n",
       "27   CAGSBRNOVOEX                              Erro ao consultar DUE   \n",
       "\n",
       "                                   descricao_demanda2              resultado  \n",
       "10  bom dia tent retific due port receb err inform...  DÚVIDA OU INFORMAÇÕES  \n",
       "12  acess criaca due opca embarqu antecip vinculac...  DÚVIDA OU INFORMAÇÕES  \n",
       "23  bom dia conform contat telefon ger protocol se...              APLICAÇÃO  \n",
       "26  sistem pass indisponibil momentane possi agu a...               AMBIENTE  \n",
       "27                                    err consult due  DÚVIDA OU INFORMAÇÕES  "
      ]
     },
     "execution_count": 94,
     "metadata": {},
     "output_type": "execute_result"
    }
   ],
   "source": [
    "df2.head()"
   ]
  },
  {
   "cell_type": "code",
   "execution_count": 95,
   "metadata": {},
   "outputs": [
    {
     "name": "stdout",
     "output_type": "stream",
     "text": [
      "Arquivo salvo com sucesso!\n"
     ]
    }
   ],
   "source": [
    "#!pip install openpyxl\n",
    "# Salvando para formato Excel\n",
    "writer = pd.ExcelWriter('pucomex_situacao_nao_prevista.xlsx')\n",
    "df2.to_excel(writer,'pucomex')\n",
    "writer.save()\n",
    "print('Arquivo salvo com sucesso!')"
   ]
  },
  {
   "cell_type": "markdown",
   "metadata": {},
   "source": [
    "FIM"
   ]
  }
 ],
 "metadata": {
  "kernelspec": {
   "display_name": "Python 3",
   "language": "python",
   "name": "python3"
  },
  "language_info": {
   "codemirror_mode": {
    "name": "ipython",
    "version": 3
   },
   "file_extension": ".py",
   "mimetype": "text/x-python",
   "name": "python",
   "nbconvert_exporter": "python",
   "pygments_lexer": "ipython3",
   "version": "3.6.0"
  }
 },
 "nbformat": 4,
 "nbformat_minor": 2
}
